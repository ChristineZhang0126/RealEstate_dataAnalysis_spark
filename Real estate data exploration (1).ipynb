{
 "cells": [
  {
   "cell_type": "markdown",
   "metadata": {
    "application/vnd.databricks.v1+cell": {
     "cellMetadata": {
      "byteLimit": 2048000,
      "rowLimit": 10000
     },
     "inputWidgets": {},
     "nuid": "95db5f73-e5ca-4752-a146-5690a0ba3fcc",
     "showTitle": false,
     "title": ""
    }
   },
   "source": [
    "## Data Analysis of real-estate data\n",
    "--Create a model to estimate the price of houses based on their size, number of rooms, location etc."
   ]
  },
  {
   "cell_type": "markdown",
   "metadata": {
    "application/vnd.databricks.v1+cell": {
     "cellMetadata": {
      "byteLimit": 2048000,
      "rowLimit": 10000
     },
     "inputWidgets": {},
     "nuid": "0942b3eb-ac7b-4cb3-8f3d-a9b1726787c0",
     "showTitle": false,
     "title": ""
    }
   },
   "source": [
    "1. Data selection (Kaggle real-estate data: housing values in the city of Bengaluru)\n",
    "2. Objective: The project aims to create a tool that can guess how much a house will cost using machine learning. This tool could help people like investors, banks and individulas to make better choices about buying and selling houses. By figuring out the prices more accurately, everyone can make smarter decisions and maybe even make more money.\n",
    "3. Exploratory data Analysis\n",
    "4. Feature engineering, data cleaning\n",
    "   (1) Drop rows with missing data\n",
    "   (2) For the total_sqft column, there are different types of data format: \"100-150\", \"100 sqrt.meter\", \"100\" etc.\n",
    "   for those with \"100-150\", I calculate the average; for the rest of irregular format, we drop it.\n",
    "   (3) Add a price_per_sqft column to test any outliers, and then remove them\n",
    "   (4) For each location, there are gorups of data related to that location, for those location has few data, we group them and label them as \"other\"\n",
    "5. Get the cleaned data and do machine learning on those data\n",
    "   (1) Linear regression model\n",
    "   (2) Decision Tree Model\n",
    "6. Analysis on the result "
   ]
  },
  {
   "cell_type": "code",
   "execution_count": 0,
   "metadata": {
    "application/vnd.databricks.v1+cell": {
     "cellMetadata": {
      "byteLimit": 2048000,
      "rowLimit": 10000
     },
     "inputWidgets": {},
     "nuid": "22dc109c-10d8-447b-9a59-5d9d36633aa6",
     "showTitle": false,
     "title": ""
    }
   },
   "outputs": [],
   "source": [
    "import numpy as np\n",
    "import pandas as pd\n",
    "import matplotlib.pyplot as plt\n",
    "from pyspark.sql.functions import count, when, split, col, isnan\n",
    "from pyspark.sql.functions import col, udf\n",
    "from pyspark.sql.types import FloatType"
   ]
  },
  {
   "cell_type": "code",
   "execution_count": 0,
   "metadata": {
    "application/vnd.databricks.v1+cell": {
     "cellMetadata": {
      "byteLimit": 2048000,
      "rowLimit": 10000
     },
     "inputWidgets": {},
     "nuid": "9617f14c-f794-4630-9c7a-9e7ba074cd46",
     "showTitle": false,
     "title": ""
    }
   },
   "outputs": [],
   "source": [
    "storage_account_name = \"tokyoolympicdatayifan\"\n",
    "container_name = \"real-estate-data\"\n",
    "account_key = \"f5QedKSsoWo4qv8aqmxo8LLRUIPYH8UMZ7TTruDZSXJovVPLYdiyhpDtz+ZBJy1QBcTWlEpr0x7w+ASt7Hmf4Q==\"\n",
    "mount_point = \"/mnt/real-estate-data\"  # Specify the mount point\n",
    "\n",
    "# Check if the directory is already mounted\n",
    "if not any(mount_info.mountPoint == mount_point for mount_info in dbutils.fs.mounts()):\n",
    "    # Mount ADLS Gen2\n",
    "    dbutils.fs.mount(\n",
    "        source=f\"wasbs://{container_name}@{storage_account_name}.blob.core.windows.net\",\n",
    "        mount_point=mount_point,\n",
    "        extra_configs={\"fs.azure.account.key.\" + storage_account_name + \".blob.core.windows.net\": account_key}\n",
    "    )\n",
    "\n",
    "\n"
   ]
  },
  {
   "cell_type": "code",
   "execution_count": 0,
   "metadata": {
    "application/vnd.databricks.v1+cell": {
     "cellMetadata": {
      "byteLimit": 2048000,
      "rowLimit": 10000
     },
     "inputWidgets": {},
     "nuid": "8ba41c01-5577-49b2-9e25-c9e9fc684cd5",
     "showTitle": false,
     "title": ""
    }
   },
   "outputs": [
    {
     "output_type": "display_data",
     "data": {
      "text/html": [
       "<style scoped>\n",
       "  .table-result-container {\n",
       "    max-height: 300px;\n",
       "    overflow: auto;\n",
       "  }\n",
       "  table, th, td {\n",
       "    border: 1px solid black;\n",
       "    border-collapse: collapse;\n",
       "  }\n",
       "  th, td {\n",
       "    padding: 5px;\n",
       "  }\n",
       "  th {\n",
       "    text-align: left;\n",
       "  }\n",
       "</style><div class='table-result-container'><table class='table-result'><thead style='background-color: white'><tr><th>path</th><th>name</th><th>size</th><th>modificationTime</th></tr></thead><tbody><tr><td>dbfs:/mnt/real-estate/cleaned-data/</td><td>cleaned-data/</td><td>0</td><td>0</td></tr><tr><td>dbfs:/mnt/real-estate/raw-data/</td><td>raw-data/</td><td>0</td><td>0</td></tr></tbody></table></div>"
      ]
     },
     "metadata": {
      "application/vnd.databricks.v1+output": {
       "addedWidgets": {},
       "aggData": [],
       "aggError": "",
       "aggOverflow": false,
       "aggSchema": [],
       "aggSeriesLimitReached": false,
       "aggType": "",
       "arguments": {},
       "columnCustomDisplayInfos": {},
       "data": [
        [
         "dbfs:/mnt/real-estate/cleaned-data/",
         "cleaned-data/",
         0,
         0
        ],
        [
         "dbfs:/mnt/real-estate/raw-data/",
         "raw-data/",
         0,
         0
        ]
       ],
       "datasetInfos": [],
       "dbfsResultPath": null,
       "isJsonSchema": true,
       "metadata": {
        "isDbfsCommandResult": false
       },
       "overflow": false,
       "plotOptions": {
        "customPlotOptions": {},
        "displayType": "table",
        "pivotAggregation": null,
        "pivotColumns": null,
        "xColumns": null,
        "yColumns": null
       },
       "removedWidgets": [],
       "schema": [
        {
         "metadata": "{}",
         "name": "path",
         "type": "\"string\""
        },
        {
         "metadata": "{}",
         "name": "name",
         "type": "\"string\""
        },
        {
         "metadata": "{}",
         "name": "size",
         "type": "\"long\""
        },
        {
         "metadata": "{}",
         "name": "modificationTime",
         "type": "\"long\""
        }
       ],
       "type": "table"
      }
     },
     "output_type": "display_data"
    }
   ],
   "source": [
    " %fs\n",
    " ls \"/mnt/real-estate\""
   ]
  },
  {
   "cell_type": "markdown",
   "metadata": {
    "application/vnd.databricks.v1+cell": {
     "cellMetadata": {
      "byteLimit": 2048000,
      "rowLimit": 10000
     },
     "inputWidgets": {},
     "nuid": "3f977649-343f-42d5-96d3-26fe56dee2b9",
     "showTitle": false,
     "title": ""
    }
   },
   "source": [
    "### Read data from Azure data lake -- Exploratory data Analysis"
   ]
  },
  {
   "cell_type": "code",
   "execution_count": 0,
   "metadata": {
    "application/vnd.databricks.v1+cell": {
     "cellMetadata": {
      "byteLimit": 2048000,
      "rowLimit": 10000
     },
     "inputWidgets": {},
     "nuid": "55e180cc-8fef-4a9a-80bc-2bed84d91bdb",
     "showTitle": false,
     "title": ""
    }
   },
   "outputs": [
    {
     "output_type": "stream",
     "name": "stdout",
     "output_type": "stream",
     "text": [
      "+--------------------+-------------+--------------------+---------+-------+----------+----+-------+-----+\n|           area_type| availability|            location|     size|society|total_sqft|bath|balcony|price|\n+--------------------+-------------+--------------------+---------+-------+----------+----+-------+-----+\n|Super built-up  Area|       19-Dec|Electronic City P...|    2 BHK|Coomee |      1056|   2|      1|39.07|\n|          Plot  Area|Ready To Move|    Chikka Tirupathi|4 Bedroom|Theanmp|      2600|   5|      3|120.0|\n|      Built-up  Area|Ready To Move|         Uttarahalli|    3 BHK|   NULL|      1440|   2|      3| 62.0|\n|Super built-up  Area|Ready To Move|  Lingadheeranahalli|    3 BHK|Soiewre|      1521|   3|      1| 95.0|\n|Super built-up  Area|Ready To Move|            Kothanur|    2 BHK|   NULL|      1200|   2|      1| 51.0|\n|Super built-up  Area|Ready To Move|          Whitefield|    2 BHK|DuenaTa|      1170|   2|      1| 38.0|\n|Super built-up  Area|       18-May|    Old Airport Road|    4 BHK|Jaades |      2732|   4|   NULL|204.0|\n|Super built-up  Area|Ready To Move|        Rajaji Nagar|    4 BHK|Brway G|      3300|   4|   NULL|600.0|\n|Super built-up  Area|Ready To Move|        Marathahalli|    3 BHK|   NULL|      1310|   3|      1|63.25|\n|          Plot  Area|Ready To Move|        Gandhi Bazar|6 Bedroom|   NULL|      1020|   6|   NULL|370.0|\n|Super built-up  Area|       18-Feb|          Whitefield|    3 BHK|   NULL|      1800|   2|      2| 70.0|\n|          Plot  Area|Ready To Move|          Whitefield|4 Bedroom|Prrry M|      2785|   5|      3|295.0|\n|Super built-up  Area|Ready To Move|  7th Phase JP Nagar|    2 BHK|Shncyes|      1000|   2|      1| 38.0|\n|      Built-up  Area|Ready To Move|           Gottigere|    2 BHK|   NULL|      1100|   2|      2| 40.0|\n|          Plot  Area|Ready To Move|            Sarjapur|3 Bedroom|Skityer|      2250|   3|      2|148.0|\n|Super built-up  Area|Ready To Move|         Mysore Road|    2 BHK|PrntaEn|      1175|   2|      2| 73.5|\n|Super built-up  Area|Ready To Move|       Bisuvanahalli|    3 BHK|Prityel|      1180|   3|      2| 48.0|\n|Super built-up  Area|Ready To Move|Raja Rajeshwari N...|    3 BHK|GrrvaGr|      1540|   3|      3| 60.0|\n|Super built-up  Area|Ready To Move|Ramakrishnappa La...|    3 BHK|PeBayle|      2770|   4|      2|290.0|\n|Super built-up  Area|Ready To Move|  Manayata Tech Park|    2 BHK|   NULL|      1100|   2|      2| 48.0|\n+--------------------+-------------+--------------------+---------+-------+----------+----+-------+-----+\nonly showing top 20 rows\n\nNumber of rows: 13320\nNumber of columns: 9\n"
     ]
    }
   ],
   "source": [
    "# csv_file_path = \"/mnt/real-estate/raw-data/bengaluru_house_prices.csv\"\n",
    "# # Read the CSV file into a DataFrame\n",
    "# df = pd.read_csv(csv_file_path)\n",
    "\n",
    "# # Display the first few rows of the DataFrame\n",
    "# df.head()\n",
    "real_estate = spark.read.format(\"csv\").options(header = 'True',inferSchema = 'True').load(\"/mnt/real-estate/raw-data/bengaluru_house_prices.csv\")\n",
    "real_estate.show()\n",
    "num_rows = real_estate.count()\n",
    "num_cols = len(real_estate.columns)\n",
    "\n",
    "print(f\"Number of rows: {num_rows}\")\n",
    "print(f\"Number of columns: {num_cols}\")\n"
   ]
  },
  {
   "cell_type": "code",
   "execution_count": 0,
   "metadata": {
    "application/vnd.databricks.v1+cell": {
     "cellMetadata": {
      "byteLimit": 2048000,
      "rowLimit": 10000
     },
     "inputWidgets": {},
     "nuid": "ef07730e-165a-4cca-bd1f-97df928d78c8",
     "showTitle": false,
     "title": ""
    }
   },
   "outputs": [
    {
     "output_type": "stream",
     "name": "stdout",
     "output_type": "stream",
     "text": [
      "root\n |-- area_type: string (nullable = true)\n |-- availability: string (nullable = true)\n |-- location: string (nullable = true)\n |-- size: string (nullable = true)\n |-- society: string (nullable = true)\n |-- total_sqft: string (nullable = true)\n |-- bath: integer (nullable = true)\n |-- balcony: integer (nullable = true)\n |-- price: double (nullable = true)\n\n"
     ]
    },
    {
     "output_type": "execute_result",
     "data": {
      "text/plain": [
       "<bound method DataFrame.dropDuplicates of DataFrame[area_type: string, availability: string, location: string, size: string, society: string, total_sqft: string, bath: int, balcony: int, price: double]>"
      ]
     },
     "execution_count": 4,
     "metadata": {},
     "output_type": "execute_result"
    }
   ],
   "source": [
    "real_estate.printSchema()\n",
    "real_estate.dropDuplicates"
   ]
  },
  {
   "cell_type": "code",
   "execution_count": 0,
   "metadata": {
    "application/vnd.databricks.v1+cell": {
     "cellMetadata": {
      "byteLimit": 2048000,
      "rowLimit": 10000
     },
     "inputWidgets": {},
     "nuid": "9cd06b23-31f9-400a-b56a-36e11ea3204b",
     "showTitle": false,
     "title": ""
    }
   },
   "outputs": [
    {
     "output_type": "stream",
     "name": "stdout",
     "output_type": "stream",
     "text": [
      "+--------------------+---------+----------+----+-----+\n|            location|     size|total_sqft|bath|price|\n+--------------------+---------+----------+----+-----+\n|Electronic City P...|    2 BHK|      1056|   2|39.07|\n|    Chikka Tirupathi|4 Bedroom|      2600|   5|120.0|\n|         Uttarahalli|    3 BHK|      1440|   2| 62.0|\n|  Lingadheeranahalli|    3 BHK|      1521|   3| 95.0|\n|            Kothanur|    2 BHK|      1200|   2| 51.0|\n|          Whitefield|    2 BHK|      1170|   2| 38.0|\n|    Old Airport Road|    4 BHK|      2732|   4|204.0|\n|        Rajaji Nagar|    4 BHK|      3300|   4|600.0|\n|        Marathahalli|    3 BHK|      1310|   3|63.25|\n|        Gandhi Bazar|6 Bedroom|      1020|   6|370.0|\n|          Whitefield|    3 BHK|      1800|   2| 70.0|\n|          Whitefield|4 Bedroom|      2785|   5|295.0|\n|  7th Phase JP Nagar|    2 BHK|      1000|   2| 38.0|\n|           Gottigere|    2 BHK|      1100|   2| 40.0|\n|            Sarjapur|3 Bedroom|      2250|   3|148.0|\n|         Mysore Road|    2 BHK|      1175|   2| 73.5|\n|       Bisuvanahalli|    3 BHK|      1180|   3| 48.0|\n|Raja Rajeshwari N...|    3 BHK|      1540|   3| 60.0|\n|Ramakrishnappa La...|    3 BHK|      2770|   4|290.0|\n|  Manayata Tech Park|    2 BHK|      1100|   2| 48.0|\n+--------------------+---------+----------+----+-----+\nonly showing top 20 rows\n\n"
     ]
    }
   ],
   "source": [
    "# Drop unnecessary columns from the DataFrame\n",
    "real_estate = real_estate.drop(\"area_type\", \"society\", \"balcony\", \"availability\")\n",
    "real_estate.show()"
   ]
  },
  {
   "cell_type": "code",
   "execution_count": 0,
   "metadata": {
    "application/vnd.databricks.v1+cell": {
     "cellMetadata": {
      "byteLimit": 2048000,
      "rowLimit": 10000
     },
     "inputWidgets": {},
     "nuid": "e6cb4912-ebb8-4f9a-b4b6-be3852ba12f3",
     "showTitle": false,
     "title": ""
    }
   },
   "outputs": [
    {
     "output_type": "display_data",
     "data": {
      "text/html": [
       "<style scoped>\n",
       "  .table-result-container {\n",
       "    max-height: 300px;\n",
       "    overflow: auto;\n",
       "  }\n",
       "  table, th, td {\n",
       "    border: 1px solid black;\n",
       "    border-collapse: collapse;\n",
       "  }\n",
       "  th, td {\n",
       "    padding: 5px;\n",
       "  }\n",
       "  th {\n",
       "    text-align: left;\n",
       "  }\n",
       "</style><div class='table-result-container'><table class='table-result'><thead style='background-color: white'><tr><th>location</th><th>size</th><th>total_sqft</th><th>bath</th><th>price</th></tr></thead><tbody><tr><td>1</td><td>16</td><td>0</td><td>73</td><td>0</td></tr></tbody></table></div>"
      ]
     },
     "metadata": {
      "application/vnd.databricks.v1+output": {
       "addedWidgets": {},
       "aggData": [],
       "aggError": "",
       "aggOverflow": false,
       "aggSchema": [],
       "aggSeriesLimitReached": false,
       "aggType": "",
       "arguments": {},
       "columnCustomDisplayInfos": {},
       "data": [
        [
         1,
         16,
         0,
         73,
         0
        ]
       ],
       "datasetInfos": [],
       "dbfsResultPath": null,
       "isJsonSchema": true,
       "metadata": {},
       "overflow": false,
       "plotOptions": {
        "customPlotOptions": {},
        "displayType": "table",
        "pivotAggregation": null,
        "pivotColumns": null,
        "xColumns": null,
        "yColumns": null
       },
       "removedWidgets": [],
       "schema": [
        {
         "metadata": "{}",
         "name": "location",
         "type": "\"long\""
        },
        {
         "metadata": "{}",
         "name": "size",
         "type": "\"long\""
        },
        {
         "metadata": "{}",
         "name": "total_sqft",
         "type": "\"long\""
        },
        {
         "metadata": "{}",
         "name": "bath",
         "type": "\"long\""
        },
        {
         "metadata": "{}",
         "name": "price",
         "type": "\"long\""
        }
       ],
       "type": "table"
      }
     },
     "output_type": "display_data"
    }
   ],
   "source": [
    "\n",
    "# count of missing values in each column\n",
    "null_counts_df = real_estate.select([count(when(col(c).isNull(), c)).alias(c) for c in real_estate.columns])\n",
    "\n",
    "display(null_counts_df)\n",
    "\n",
    "\n",
    "\n"
   ]
  },
  {
   "cell_type": "code",
   "execution_count": 0,
   "metadata": {
    "application/vnd.databricks.v1+cell": {
     "cellMetadata": {
      "byteLimit": 2048000,
      "rowLimit": 10000
     },
     "inputWidgets": {},
     "nuid": "31b69f6d-a8cf-40a6-a41a-be2830fa9d32",
     "showTitle": false,
     "title": ""
    }
   },
   "outputs": [
    {
     "output_type": "stream",
     "name": "stdout",
     "output_type": "stream",
     "text": [
      "+--------------------+---------+----------+----+-----+\n|            location|     size|total_sqft|bath|price|\n+--------------------+---------+----------+----+-----+\n|Electronic City P...|    2 BHK|      1056|   2|39.07|\n|    Chikka Tirupathi|4 Bedroom|      2600|   5|120.0|\n|         Uttarahalli|    3 BHK|      1440|   2| 62.0|\n|  Lingadheeranahalli|    3 BHK|      1521|   3| 95.0|\n|            Kothanur|    2 BHK|      1200|   2| 51.0|\n|          Whitefield|    2 BHK|      1170|   2| 38.0|\n|    Old Airport Road|    4 BHK|      2732|   4|204.0|\n|        Rajaji Nagar|    4 BHK|      3300|   4|600.0|\n|        Marathahalli|    3 BHK|      1310|   3|63.25|\n|        Gandhi Bazar|6 Bedroom|      1020|   6|370.0|\n|          Whitefield|    3 BHK|      1800|   2| 70.0|\n|          Whitefield|4 Bedroom|      2785|   5|295.0|\n|  7th Phase JP Nagar|    2 BHK|      1000|   2| 38.0|\n|           Gottigere|    2 BHK|      1100|   2| 40.0|\n|            Sarjapur|3 Bedroom|      2250|   3|148.0|\n|         Mysore Road|    2 BHK|      1175|   2| 73.5|\n|       Bisuvanahalli|    3 BHK|      1180|   3| 48.0|\n|Raja Rajeshwari N...|    3 BHK|      1540|   3| 60.0|\n|Ramakrishnappa La...|    3 BHK|      2770|   4|290.0|\n|  Manayata Tech Park|    2 BHK|      1100|   2| 48.0|\n+--------------------+---------+----------+----+-----+\nonly showing top 20 rows\n\nNumber of rows: 13246\nNumber of columns: 5\n"
     ]
    }
   ],
   "source": [
    "# Drop rows with missing values\n",
    "real_estate = real_estate.dropna()\n",
    "real_estate.show()\n",
    "num_rows = real_estate.count()\n",
    "num_cols = len(real_estate.columns)\n",
    "# used to be 13320 rows , after dropping there are 13246 rows\n",
    "print(f\"Number of rows: {num_rows}\")\n",
    "print(f\"Number of columns: {num_cols}\")"
   ]
  },
  {
   "cell_type": "code",
   "execution_count": 0,
   "metadata": {
    "application/vnd.databricks.v1+cell": {
     "cellMetadata": {
      "byteLimit": 2048000,
      "rowLimit": 10000
     },
     "inputWidgets": {},
     "nuid": "d0502905-9bd4-46f0-b035-19f415e64834",
     "showTitle": false,
     "title": ""
    }
   },
   "outputs": [
    {
     "output_type": "stream",
     "name": "stdout",
     "output_type": "stream",
     "text": [
      "+--------------------+---------+----------+----+-----+---+\n|            location|     size|total_sqft|bath|price|BHK|\n+--------------------+---------+----------+----+-----+---+\n|Electronic City P...|    2 BHK|      1056|   2|39.07|  2|\n|    Chikka Tirupathi|4 Bedroom|      2600|   5|120.0|  4|\n|         Uttarahalli|    3 BHK|      1440|   2| 62.0|  3|\n|  Lingadheeranahalli|    3 BHK|      1521|   3| 95.0|  3|\n|            Kothanur|    2 BHK|      1200|   2| 51.0|  2|\n|          Whitefield|    2 BHK|      1170|   2| 38.0|  2|\n|    Old Airport Road|    4 BHK|      2732|   4|204.0|  4|\n|        Rajaji Nagar|    4 BHK|      3300|   4|600.0|  4|\n|        Marathahalli|    3 BHK|      1310|   3|63.25|  3|\n|        Gandhi Bazar|6 Bedroom|      1020|   6|370.0|  6|\n|          Whitefield|    3 BHK|      1800|   2| 70.0|  3|\n|          Whitefield|4 Bedroom|      2785|   5|295.0|  4|\n|  7th Phase JP Nagar|    2 BHK|      1000|   2| 38.0|  2|\n|           Gottigere|    2 BHK|      1100|   2| 40.0|  2|\n|            Sarjapur|3 Bedroom|      2250|   3|148.0|  3|\n|         Mysore Road|    2 BHK|      1175|   2| 73.5|  2|\n|       Bisuvanahalli|    3 BHK|      1180|   3| 48.0|  3|\n|Raja Rajeshwari N...|    3 BHK|      1540|   3| 60.0|  3|\n|Ramakrishnappa La...|    3 BHK|      2770|   4|290.0|  3|\n|  Manayata Tech Park|    2 BHK|      1100|   2| 48.0|  2|\n+--------------------+---------+----------+----+-----+---+\nonly showing top 20 rows\n\n"
     ]
    }
   ],
   "source": [
    "\n",
    "# add another column called 'BHK'\n",
    "real_estate = real_estate.withColumn('BHK', split(col('size'), ' ')[0].cast('integer'))\n",
    "real_estate.show()"
   ]
  },
  {
   "cell_type": "code",
   "execution_count": 0,
   "metadata": {
    "application/vnd.databricks.v1+cell": {
     "cellMetadata": {
      "byteLimit": 2048000,
      "rowLimit": 10000
     },
     "inputWidgets": {},
     "nuid": "cfa26cd6-2174-45b2-9da2-6ca614609653",
     "showTitle": false,
     "title": ""
    }
   },
   "outputs": [
    {
     "output_type": "stream",
     "name": "stdout",
     "output_type": "stream",
     "text": [
      "+---+\n|BHK|\n+---+\n| 27|\n| 12|\n|  1|\n| 13|\n|  6|\n| 16|\n|  3|\n|  5|\n| 19|\n| 43|\n|  9|\n|  4|\n|  8|\n|  7|\n| 10|\n| 11|\n| 14|\n|  2|\n| 18|\n+---+\n\n"
     ]
    }
   ],
   "source": [
    "real_estate.select('BHK').distinct().show()"
   ]
  },
  {
   "cell_type": "code",
   "execution_count": 0,
   "metadata": {
    "application/vnd.databricks.v1+cell": {
     "cellMetadata": {
      "byteLimit": 2048000,
      "rowLimit": 10000
     },
     "inputWidgets": {},
     "nuid": "6a24caf1-c48d-45f8-ab88-448f8de7290f",
     "showTitle": false,
     "title": ""
    }
   },
   "outputs": [
    {
     "output_type": "execute_result",
     "data": {
      "text/plain": [
       "[Row(location='Yelahanka', size='4 BHK', total_sqft='2100 - 2850', bath=4, price=186.0, BHK=4),\n",
       " Row(location='Hebbal', size='4 BHK', total_sqft='3067 - 8156', bath=4, price=477.0, BHK=4),\n",
       " Row(location='8th Phase JP Nagar', size='2 BHK', total_sqft='1042 - 1105', bath=2, price=54.005, BHK=2),\n",
       " Row(location='Sarjapur', size='2 BHK', total_sqft='1145 - 1340', bath=2, price=43.49, BHK=2),\n",
       " Row(location='KR Puram', size='2 BHK', total_sqft='1015 - 1540', bath=2, price=56.8, BHK=2),\n",
       " Row(location='Kengeri', size='1 BHK', total_sqft='34.46Sq. Meter', bath=1, price=18.5, BHK=1),\n",
       " Row(location='Hennur Road', size='2 BHK', total_sqft='1195 - 1440', bath=2, price=63.77, BHK=2),\n",
       " Row(location='Arekere', size='9 Bedroom', total_sqft='4125Perch', bath=9, price=265.0, BHK=9),\n",
       " Row(location='Yelahanka', size='2 BHK', total_sqft='1120 - 1145', bath=2, price=48.13, BHK=2),\n",
       " Row(location='Bettahalsoor', size='4 Bedroom', total_sqft='3090 - 5002', bath=4, price=445.0, BHK=4)]"
      ]
     },
     "execution_count": 10,
     "metadata": {},
     "output_type": "execute_result"
    }
   ],
   "source": [
    "# filter out values in the column \"total_sqft\" that are not float type\n",
    "real_estate.filter(~col(\"total_sqft\").cast(\"float\").isNotNull()).head(10)"
   ]
  },
  {
   "cell_type": "code",
   "execution_count": 0,
   "metadata": {
    "application/vnd.databricks.v1+cell": {
     "cellMetadata": {
      "byteLimit": 2048000,
      "rowLimit": 10000
     },
     "inputWidgets": {},
     "nuid": "fa4a86d2-1fb0-4063-adc1-347460eb9f9d",
     "showTitle": false,
     "title": ""
    }
   },
   "outputs": [],
   "source": [
    "\n",
    "\n",
    "# Define the UDF to convert sqft to numeric value\n",
    "@udf(FloatType())\n",
    "def convert_sqft_to_num(x):\n",
    "    token = x.split('-')\n",
    "    if len(token) == 2:\n",
    "        return (float(token[0]) + float(token[1])) / 2\n",
    "    try:\n",
    "        return float(x)\n",
    "    except:\n",
    "        return None\n",
    "    \n",
    "\n"
   ]
  },
  {
   "cell_type": "code",
   "execution_count": 0,
   "metadata": {
    "application/vnd.databricks.v1+cell": {
     "cellMetadata": {
      "byteLimit": 2048000,
      "rowLimit": 10000
     },
     "inputWidgets": {},
     "nuid": "8b33cab2-8c06-4797-80ae-757aebe6a0c0",
     "showTitle": false,
     "title": ""
    }
   },
   "outputs": [
    {
     "output_type": "execute_result",
     "data": {
      "text/plain": [
       "Column<'convert_sqft_to_num(1145 - 1340)'>"
      ]
     },
     "execution_count": 12,
     "metadata": {},
     "output_type": "execute_result"
    }
   ],
   "source": [
    "convert_sqft_to_num('1145 - 1340')"
   ]
  },
  {
   "cell_type": "code",
   "execution_count": 0,
   "metadata": {
    "application/vnd.databricks.v1+cell": {
     "cellMetadata": {
      "byteLimit": 2048000,
      "rowLimit": 10000
     },
     "inputWidgets": {},
     "nuid": "acd1a996-b385-42ec-8512-849737399caf",
     "showTitle": false,
     "title": ""
    }
   },
   "outputs": [
    {
     "output_type": "stream",
     "name": "stdout",
     "output_type": "stream",
     "text": [
      "+--------------------+---------+----------+----+-----+---+\n|            location|     size|total_sqft|bath|price|BHK|\n+--------------------+---------+----------+----+-----+---+\n|Electronic City P...|    2 BHK|    1056.0|   2|39.07|  2|\n|    Chikka Tirupathi|4 Bedroom|    2600.0|   5|120.0|  4|\n|         Uttarahalli|    3 BHK|    1440.0|   2| 62.0|  3|\n|  Lingadheeranahalli|    3 BHK|    1521.0|   3| 95.0|  3|\n|            Kothanur|    2 BHK|    1200.0|   2| 51.0|  2|\n|          Whitefield|    2 BHK|    1170.0|   2| 38.0|  2|\n|    Old Airport Road|    4 BHK|    2732.0|   4|204.0|  4|\n|        Rajaji Nagar|    4 BHK|    3300.0|   4|600.0|  4|\n|        Marathahalli|    3 BHK|    1310.0|   3|63.25|  3|\n|        Gandhi Bazar|6 Bedroom|    1020.0|   6|370.0|  6|\n|          Whitefield|    3 BHK|    1800.0|   2| 70.0|  3|\n|          Whitefield|4 Bedroom|    2785.0|   5|295.0|  4|\n|  7th Phase JP Nagar|    2 BHK|    1000.0|   2| 38.0|  2|\n|           Gottigere|    2 BHK|    1100.0|   2| 40.0|  2|\n|            Sarjapur|3 Bedroom|    2250.0|   3|148.0|  3|\n|         Mysore Road|    2 BHK|    1175.0|   2| 73.5|  2|\n|       Bisuvanahalli|    3 BHK|    1180.0|   3| 48.0|  3|\n|Raja Rajeshwari N...|    3 BHK|    1540.0|   3| 60.0|  3|\n|Ramakrishnappa La...|    3 BHK|    2770.0|   4|290.0|  3|\n|  Manayata Tech Park|    2 BHK|    1100.0|   2| 48.0|  2|\n+--------------------+---------+----------+----+-----+---+\nonly showing top 20 rows\n\n"
     ]
    }
   ],
   "source": [
    "# Apply the UDF to the 'total_sqft' column\n",
    "real_estate_copy = real_estate.select([col(col_name) for col_name in real_estate.columns])\n",
    "real_estate_copy = real_estate_copy.withColumn('total_sqft', convert_sqft_to_num(col('total_sqft')))\n",
    "real_estate_copy.show()\n"
   ]
  },
  {
   "cell_type": "code",
   "execution_count": 0,
   "metadata": {
    "application/vnd.databricks.v1+cell": {
     "cellMetadata": {
      "byteLimit": 2048000,
      "rowLimit": 10000
     },
     "inputWidgets": {},
     "nuid": "850c4a5c-f4dd-4ed2-997f-39dab731c96c",
     "showTitle": false,
     "title": ""
    }
   },
   "outputs": [
    {
     "output_type": "stream",
     "name": "stdout",
     "output_type": "stream",
     "text": [
      "+--------------------+---------+----------+----+-----+---+------------------+\n|            location|     size|total_sqft|bath|price|BHK|    price_per_sqft|\n+--------------------+---------+----------+----+-----+---+------------------+\n|Electronic City P...|    2 BHK|    1056.0|   2|39.07|  2| 3699.810606060606|\n|    Chikka Tirupathi|4 Bedroom|    2600.0|   5|120.0|  4| 4615.384615384615|\n|         Uttarahalli|    3 BHK|    1440.0|   2| 62.0|  3| 4305.555555555556|\n|  Lingadheeranahalli|    3 BHK|    1521.0|   3| 95.0|  3| 6245.890861275477|\n|            Kothanur|    2 BHK|    1200.0|   2| 51.0|  2|            4250.0|\n|          Whitefield|    2 BHK|    1170.0|   2| 38.0|  2| 3247.863247863248|\n|    Old Airport Road|    4 BHK|    2732.0|   4|204.0|  4|7467.0571010248905|\n|        Rajaji Nagar|    4 BHK|    3300.0|   4|600.0|  4| 18181.81818181818|\n|        Marathahalli|    3 BHK|    1310.0|   3|63.25|  3| 4828.244274809161|\n|        Gandhi Bazar|6 Bedroom|    1020.0|   6|370.0|  6|36274.509803921566|\n|          Whitefield|    3 BHK|    1800.0|   2| 70.0|  3|3888.8888888888887|\n|          Whitefield|4 Bedroom|    2785.0|   5|295.0|  4| 10592.45960502693|\n|  7th Phase JP Nagar|    2 BHK|    1000.0|   2| 38.0|  2|            3800.0|\n|           Gottigere|    2 BHK|    1100.0|   2| 40.0|  2|3636.3636363636365|\n|            Sarjapur|3 Bedroom|    2250.0|   3|148.0|  3| 6577.777777777777|\n|         Mysore Road|    2 BHK|    1175.0|   2| 73.5|  2|  6255.31914893617|\n|       Bisuvanahalli|    3 BHK|    1180.0|   3| 48.0|  3|4067.7966101694915|\n|Raja Rajeshwari N...|    3 BHK|    1540.0|   3| 60.0|  3| 3896.103896103896|\n|Ramakrishnappa La...|    3 BHK|    2770.0|   4|290.0|  3|10469.314079422382|\n|  Manayata Tech Park|    2 BHK|    1100.0|   2| 48.0|  2| 4363.636363636364|\n+--------------------+---------+----------+----+-----+---+------------------+\nonly showing top 20 rows\n\n"
     ]
    }
   ],
   "source": [
    "\n",
    "real_estate_copy = real_estate_copy.withColumn('price_per_sqft', col('price') * 100000 / col('total_sqft'))\n",
    "real_estate_copy.show()"
   ]
  },
  {
   "cell_type": "code",
   "execution_count": 0,
   "metadata": {
    "application/vnd.databricks.v1+cell": {
     "cellMetadata": {
      "byteLimit": 2048000,
      "rowLimit": 10000
     },
     "inputWidgets": {},
     "nuid": "413414dd-41ae-40b4-8038-c6d753fdde42",
     "showTitle": false,
     "title": ""
    }
   },
   "outputs": [
    {
     "output_type": "execute_result",
     "data": {
      "text/plain": [
       "1304"
      ]
     },
     "execution_count": 15,
     "metadata": {},
     "output_type": "execute_result"
    }
   ],
   "source": [
    "len(real_estate_copy.select(col(\"location\")).distinct().collect())"
   ]
  },
  {
   "cell_type": "code",
   "execution_count": 0,
   "metadata": {
    "application/vnd.databricks.v1+cell": {
     "cellMetadata": {
      "byteLimit": 2048000,
      "rowLimit": 10000
     },
     "inputWidgets": {},
     "nuid": "a026e0e7-9067-4d00-a525-7ec54dd7d45f",
     "showTitle": false,
     "title": ""
    }
   },
   "outputs": [
    {
     "output_type": "stream",
     "name": "stdout",
     "output_type": "stream",
     "text": [
      "+--------------------+--------------+\n|            location|location_count|\n+--------------------+--------------+\n|          Whitefield|           535|\n|      Sarjapur  Road|           392|\n|     Electronic City|           304|\n|      Kanakpura Road|           266|\n|         Thanisandra|           236|\n|           Yelahanka|           210|\n|         Uttarahalli|           186|\n|              Hebbal|           176|\n|        Marathahalli|           175|\n|Raja Rajeshwari N...|           171|\n|   Bannerghatta Road|           152|\n|         Hennur Road|           150|\n|  7th Phase JP Nagar|           149|\n|        Haralur Road|           141|\n|Electronic City P...|           131|\n|        Rajaji Nagar|           106|\n|          Chandapura|            98|\n|           Bellandur|            96|\n|            KR Puram|            88|\n|               Hoodi|            88|\n+--------------------+--------------+\nonly showing top 20 rows\n\n"
     ]
    }
   ],
   "source": [
    "from pyspark.sql.functions import trim\n",
    "\n",
    "real_estate_copy = real_estate_copy.withColumn(\"location\", trim(real_estate_copy.location))\n",
    "location_stats = real_estate_copy.groupby('location').agg(count('location').alias('location_count')).orderBy('location_count', ascending=False)\n",
    "location_stats.show()"
   ]
  },
  {
   "cell_type": "code",
   "execution_count": 0,
   "metadata": {
    "application/vnd.databricks.v1+cell": {
     "cellMetadata": {
      "byteLimit": 2048000,
      "rowLimit": 10000
     },
     "inputWidgets": {},
     "nuid": "9885c5d9-b431-4364-999a-68815237d31a",
     "showTitle": false,
     "title": ""
    }
   },
   "outputs": [
    {
     "output_type": "execute_result",
     "data": {
      "text/plain": [
       "1293"
      ]
     },
     "execution_count": 17,
     "metadata": {},
     "output_type": "execute_result"
    }
   ],
   "source": [
    "# after group by the collection name, there are 1293 unique locations\n",
    "len(real_estate_copy.select(col(\"location\")).distinct().collect())"
   ]
  },
  {
   "cell_type": "code",
   "execution_count": 0,
   "metadata": {
    "application/vnd.databricks.v1+cell": {
     "cellMetadata": {
      "byteLimit": 2048000,
      "rowLimit": 10000
     },
     "inputWidgets": {},
     "nuid": "4424f7c4-7e33-4a2b-8f58-1e89467119ce",
     "showTitle": false,
     "title": ""
    }
   },
   "outputs": [
    {
     "output_type": "stream",
     "name": "stdout",
     "output_type": "stream",
     "text": [
      "+--------------------+---------+----------+----+-----+---+------------------+\n|            location|     size|total_sqft|bath|price|BHK|    price_per_sqft|\n+--------------------+---------+----------+----+-----+---+------------------+\n|Electronic City P...|    2 BHK|    1056.0|   2|39.07|  2| 3699.810606060606|\n|    Chikka Tirupathi|4 Bedroom|    2600.0|   5|120.0|  4| 4615.384615384615|\n|         Uttarahalli|    3 BHK|    1440.0|   2| 62.0|  3| 4305.555555555556|\n|  Lingadheeranahalli|    3 BHK|    1521.0|   3| 95.0|  3| 6245.890861275477|\n|            Kothanur|    2 BHK|    1200.0|   2| 51.0|  2|            4250.0|\n|          Whitefield|    2 BHK|    1170.0|   2| 38.0|  2| 3247.863247863248|\n|    Old Airport Road|    4 BHK|    2732.0|   4|204.0|  4|7467.0571010248905|\n|        Rajaji Nagar|    4 BHK|    3300.0|   4|600.0|  4| 18181.81818181818|\n|        Marathahalli|    3 BHK|    1310.0|   3|63.25|  3| 4828.244274809161|\n|               other|6 Bedroom|    1020.0|   6|370.0|  6|36274.509803921566|\n|          Whitefield|    3 BHK|    1800.0|   2| 70.0|  3|3888.8888888888887|\n|          Whitefield|4 Bedroom|    2785.0|   5|295.0|  4| 10592.45960502693|\n|  7th Phase JP Nagar|    2 BHK|    1000.0|   2| 38.0|  2|            3800.0|\n|           Gottigere|    2 BHK|    1100.0|   2| 40.0|  2|3636.3636363636365|\n|            Sarjapur|3 Bedroom|    2250.0|   3|148.0|  3| 6577.777777777777|\n|         Mysore Road|    2 BHK|    1175.0|   2| 73.5|  2|  6255.31914893617|\n|       Bisuvanahalli|    3 BHK|    1180.0|   3| 48.0|  3|4067.7966101694915|\n|Raja Rajeshwari N...|    3 BHK|    1540.0|   3| 60.0|  3| 3896.103896103896|\n|               other|    3 BHK|    2770.0|   4|290.0|  3|10469.314079422382|\n|               other|    2 BHK|    1100.0|   2| 48.0|  2| 4363.636363636364|\n+--------------------+---------+----------+----+-----+---+------------------+\nonly showing top 20 rows\n\n"
     ]
    }
   ],
   "source": [
    "# we want to find the location_count <= 10, group them together as 'other'\n",
    "\n",
    "# filter location_stats based on location_count <= 10\n",
    "location_stats_less_than_10 = location_stats.filter(location_stats['location_count'] <= 10)\n",
    "\n",
    "# collect the unique values in the 'location' column as a list\n",
    "location_stats_less_than_10_list = location_stats_less_than_10.select(\"location\").distinct().rdd.flatMap(lambda x: x).collect()\n",
    "\n",
    "# update the 'location' column using the when() and otherwise() functions\n",
    "\n",
    "real_estate_copy = real_estate_copy.withColumn(\"location\",\n",
    "                                               when(col(\"location\").isin(location_stats_less_than_10_list), \"other\")\n",
    "                                               .otherwise(col(\"location\")))\n",
    "real_estate_copy.show()\n",
    "# count the unique values in the 'location' column\n",
    "unique_location_count = real_estate_copy.select(\"location\").distinct().count()"
   ]
  },
  {
   "cell_type": "code",
   "execution_count": 0,
   "metadata": {
    "application/vnd.databricks.v1+cell": {
     "cellMetadata": {
      "byteLimit": 2048000,
      "rowLimit": 10000
     },
     "inputWidgets": {},
     "nuid": "f263ae55-f453-48cc-a797-588e4b8a3cf8",
     "showTitle": false,
     "title": ""
    }
   },
   "outputs": [
    {
     "output_type": "execute_result",
     "data": {
      "text/plain": [
       "Row(location='other', size='6 Bedroom', total_sqft=1020.0, bath=6, price=370.0, BHK=6, price_per_sqft=36274.509803921566)"
      ]
     },
     "execution_count": 19,
     "metadata": {},
     "output_type": "execute_result"
    }
   ],
   "source": [
    "real_estate_copy[real_estate_copy.total_sqft/real_estate_copy.BHK<300].head()"
   ]
  },
  {
   "cell_type": "code",
   "execution_count": 0,
   "metadata": {
    "application/vnd.databricks.v1+cell": {
     "cellMetadata": {
      "byteLimit": 2048000,
      "rowLimit": 10000
     },
     "inputWidgets": {},
     "nuid": "09628634-e645-47c4-b21a-3c89ac32dacd",
     "showTitle": false,
     "title": ""
    }
   },
   "outputs": [],
   "source": [
    "# we want BHK >= 300\n",
    "real_estate_copy = real_estate_copy[~(real_estate_copy.total_sqft/real_estate_copy.BHK<300)]\n"
   ]
  },
  {
   "cell_type": "code",
   "execution_count": 0,
   "metadata": {
    "application/vnd.databricks.v1+cell": {
     "cellMetadata": {
      "byteLimit": 2048000,
      "rowLimit": 10000
     },
     "inputWidgets": {},
     "nuid": "cc32285d-58c9-4107-ae18-fed4ffadd759",
     "showTitle": false,
     "title": ""
    }
   },
   "outputs": [
    {
     "output_type": "stream",
     "name": "stdout",
     "output_type": "stream",
     "text": [
      "+-------+------------------+\n|summary|    price_per_sqft|\n+-------+------------------+\n|  count|             12456|\n|   mean| 6308.502826086313|\n| stddev|4168.1273384332335|\n|    min|267.82981328435875|\n|    max|176470.58823529413|\n+-------+------------------+\n\n"
     ]
    }
   ],
   "source": [
    "real_estate_copy.select(\"price_per_sqft\").describe().show()"
   ]
  },
  {
   "cell_type": "code",
   "execution_count": 0,
   "metadata": {
    "application/vnd.databricks.v1+cell": {
     "cellMetadata": {
      "byteLimit": 2048000,
      "rowLimit": 10000
     },
     "inputWidgets": {},
     "nuid": "f863bad1-daa9-4a3c-8b0f-d7f05d185a6c",
     "showTitle": false,
     "title": ""
    }
   },
   "outputs": [],
   "source": [
    "# def remove_pps_outliers(df):\n",
    "#     df_out = pd.DataFrame()\n",
    "#     df_pandas = df.toPandas()  # Convert GroupedData to DataFrame\n",
    "#     for key, subdf in df_pandas.groupby('location'):\n",
    "#         m = np.mean(subdf.price_per_sqft)\n",
    "#         st = np.std(subdf.price_per_sqft)\n",
    "#         reduced_df = subdf[(subdf.price_per_sqft > (m - st)) & (subdf.price_per_sqft <= (m + st))]\n",
    "#         df_out = pd.concat([df_out, reduced_df], ignore_index=True)\n",
    "#     return df_out\n",
    "\n",
    "# new = remove_pps_outliers(real_estate_copy)\n",
    "from pyspark.sql.functions import mean, stddev_pop, col\n",
    "\n",
    "def remove_pps_outliers(df):\n",
    "    # Calculate mean and standard deviation of price_per_sqft for each location\n",
    "    stats_df = df.groupBy('location').agg(mean('price_per_sqft').alias('mean_pps'), \n",
    "                                           stddev_pop('price_per_sqft').alias('std_pps'))\n",
    "    \n",
    "    # Join the statistics with the original DataFrame\n",
    "    df_with_stats = df.join(stats_df, on='location', how='inner')\n",
    "    \n",
    "    # Filter out outliers based on mean and standard deviation\n",
    "    df_out = df_with_stats.filter((col('price_per_sqft') > (col('mean_pps') - col('std_pps'))) & \n",
    "                                  (col('price_per_sqft') <= (col('mean_pps') + col('std_pps'))))\n",
    "    \n",
    "    return df_out\n",
    "\n",
    "new = remove_pps_outliers(real_estate_copy)\n"
   ]
  },
  {
   "cell_type": "code",
   "execution_count": 0,
   "metadata": {
    "application/vnd.databricks.v1+cell": {
     "cellMetadata": {
      "byteLimit": 2048000,
      "rowLimit": 10000
     },
     "inputWidgets": {},
     "nuid": "fdf57161-4c85-4788-a430-8527dfce0846",
     "showTitle": false,
     "title": ""
    }
   },
   "outputs": [
    {
     "output_type": "stream",
     "name": "stdout",
     "output_type": "stream",
     "text": [
      "+--------------------+---------+----------+----+-----+---+------------------+------------------+------------------+\n|            location|     size|total_sqft|bath|price|BHK|    price_per_sqft|          mean_pps|           std_pps|\n+--------------------+---------+----------+----+-----+---+------------------+------------------+------------------+\n|Electronic City P...|    2 BHK|    1056.0|   2|39.07|  2| 3699.810606060606|3827.1555577360914| 2137.712530861059|\n|    Chikka Tirupathi|4 Bedroom|    2600.0|   5|120.0|  4| 4615.384615384615| 4468.307828348118|   903.53276236815|\n|         Uttarahalli|    3 BHK|    1440.0|   2| 62.0|  3| 4305.555555555556|  4292.08423382844| 1289.671809587883|\n|  Lingadheeranahalli|    3 BHK|    1521.0|   3| 95.0|  3| 6245.890861275477| 6613.525330900519| 699.1687001786811|\n|            Kothanur|    2 BHK|    1200.0|   2| 51.0|  2|            4250.0| 5483.294629003022|1593.7721496466847|\n|          Whitefield|    2 BHK|    1170.0|   2| 38.0|  2| 3247.863247863248| 6202.283428709798|3227.5697699874545|\n|    Old Airport Road|    4 BHK|    2732.0|   4|204.0|  4|7467.0571010248905| 7659.431963102801| 2707.162465931991|\n|        Marathahalli|    3 BHK|    1310.0|   3|63.25|  3| 4828.244274809161| 5935.937549537992|1680.2705603376976|\n|          Whitefield|    3 BHK|    1800.0|   2| 70.0|  3|3888.8888888888887| 6202.283428709798|3227.5697699874545|\n|           Gottigere|    2 BHK|    1100.0|   2| 40.0|  2|3636.3636363636365| 4420.268012595581|1219.1632246033053|\n|            Sarjapur|3 Bedroom|    2250.0|   3|148.0|  3| 6577.777777777777| 4833.385341232351|2438.3965150104154|\n|         Mysore Road|    2 BHK|    1175.0|   2| 73.5|  2|  6255.31914893617| 5420.475685123758|1306.6208924696457|\n|       Bisuvanahalli|    3 BHK|    1180.0|   3| 48.0|  3|4067.7966101694915| 4037.179693437926| 868.1838947107062|\n|Raja Rajeshwari N...|    3 BHK|    1540.0|   3| 60.0|  3| 3896.103896103896| 4550.208666250955| 2315.182477552644|\n|               other|    3 BHK|    2770.0|   4|290.0|  3|10469.314079422382| 7471.572866768977| 6415.736374864826|\n|               other|    2 BHK|    1100.0|   2| 48.0|  2| 4363.636363636364| 7471.572866768977| 6415.736374864826|\n|          Binny Pete|    3 BHK|    1755.0|   3|122.0|  3|6951.5669515669515| 9474.299306707802|2534.1657485857636|\n|           Bellandur|    3 BHK|    1767.0|   3|103.0|  3| 5829.088851160159|  5826.07886197935|2696.4750953572243|\n|         Thanisandra|     1 RK|     510.0|   1|25.25|  1| 4950.980392156863|5481.3347763644715|1435.9570330057215|\n|               other|    3 BHK|    1250.0|   3| 56.0|  3|            4480.0| 7471.572866768977| 6415.736374864826|\n+--------------------+---------+----------+----+-----+---+------------------+------------------+------------------+\nonly showing top 20 rows\n\n"
     ]
    }
   ],
   "source": [
    "new.show()"
   ]
  },
  {
   "cell_type": "code",
   "execution_count": 0,
   "metadata": {
    "application/vnd.databricks.v1+cell": {
     "cellMetadata": {
      "byteLimit": 2048000,
      "rowLimit": 10000
     },
     "inputWidgets": {},
     "nuid": "bd9379b4-8b6d-4394-8ec9-42b41e1ad852",
     "showTitle": false,
     "title": ""
    }
   },
   "outputs": [
    {
     "output_type": "display_data",
     "data": {
      "image/png": "[encoded data removed]",
      "text/plain": [
       "<Figure size 1500x1000 with 1 Axes>"
      ]
     },
     "metadata": {},
     "output_type": "display_data"
    }
   ],
   "source": [
    "import matplotlib.pyplot as plt\n",
    "\n",
    "def plot_scatter_chart(df, location):\n",
    "    BHK2 = df[(df.location==location) & (df.BHK==2)]\n",
    "    BHK3 = df[(df.location==location) & (df.BHK==3)]\n",
    "    plt.rcParams['figure.figsize'] = (15, 10)\n",
    "    plt.scatter(BHK2.total_sqft, BHK2.price, color='blue', label='2 BHK', s=50)\n",
    "    plt.scatter(BHK3.total_sqft, BHK3.price, marker='+', color='green', label='3 BHK', s=50)\n",
    "    plt.xlabel(\"Total Square Feet Area\")\n",
    "    plt.ylabel(\"Price\")\n",
    "    plt.title(location)\n",
    "    plt.legend()\n",
    "\n",
    "# plot_scatter_chart(new, \"Rajaji Nagar\")\n",
    "# def plot_scatter_chart(df, location):\n",
    "#     BHK2 = df.filter((df[\"location\"] == location) & (df[\"BHK\"] == 2))\n",
    "#     BHK3 = df.filter((df[\"location\"] == location) & (df[\"BHK\"] == 3))\n",
    "#     plt.rcParams['figure.figsize'] = (15, 10)\n",
    "#     plt.scatter(BHK2.select(\"total_sqft\").collect(), BHK2.select(\"price\").collect(), color='blue', label='2 BHK', s=50)\n",
    "#     plt.scatter(BHK3.select(\"total_sqft\").collect(), BHK3.select(\"price\").collect(), marker='+', color='green', label='3 BHK', s=50)\n",
    "#     plt.xlabel(\"Total Square Feet Area\")\n",
    "#     plt.ylabel(\"Price (Lakh Indian Rupees)\")\n",
    "#     plt.title(location)\n",
    "#     plt.legend()\n",
    "#     plt.show()\n",
    "# Convert PySpark DataFrame to Pandas DataFrame\n",
    "new_pandas = new.toPandas()\n",
    "\n",
    "plot_scatter_chart(new_pandas, \"Hebbal\")\n"
   ]
  },
  {
   "cell_type": "code",
   "execution_count": 0,
   "metadata": {
    "application/vnd.databricks.v1+cell": {
     "cellMetadata": {
      "byteLimit": 2048000,
      "rowLimit": 10000
     },
     "inputWidgets": {},
     "nuid": "30497a1d-7115-4449-b7df-47c27c096108",
     "showTitle": false,
     "title": ""
    }
   },
   "outputs": [
    {
     "output_type": "display_data",
     "data": {
      "image/png": "[encoded data removed]",
      "text/plain": [
       "<Figure size 1500x1000 with 1 Axes>"
      ]
     },
     "metadata": {},
     "output_type": "display_data"
    },
    {
     "output_type": "display_data",
     "data": {
      "image/png": "[encoded data removed]",
      "text/plain": [
       "<Figure size 1500x1000 with 1 Axes>"
      ]
     },
     "metadata": {},
     "output_type": "display_data"
    }
   ],
   "source": [
    "\n",
    "import matplotlib.pyplot as plt\n",
    "import pandas as pd\n",
    "# Convert Spark DataFrame column to Pandas\n",
    "price_per_sqft_pd = new.select(\"price_per_sqft\").toPandas()\n",
    "# Define bins\n",
    "bins = range(int(price_per_sqft_pd['price_per_sqft'].min()), int(price_per_sqft_pd['price_per_sqft'].max()) + 5000, 5000)\n",
    "\n",
    "# Plot histogram with adjusted x-axis range\n",
    "plt.hist(price_per_sqft_pd['price_per_sqft'], bins=bins, rwidth=0.8)\n",
    "#plt.hist(price_per_sqft_pd['price_per_sqft'], rwidth=0.8)\n",
    "plt.xlabel(\"Price Per Square Feet\")\n",
    "plt.ylabel(\"Count\")\n",
    "plt.show()\n",
    "\n",
    "bathroom_count = new.select(\"bath\").toPandas()\n",
    "plt.hist(bathroom_count,rwidth = 0.8)\n",
    "plt.xlabel(\"Number of bathrooms\")\n",
    "plt.ylabel(\"Count\")\n",
    "plt.show()"
   ]
  },
  {
   "cell_type": "code",
   "execution_count": 0,
   "metadata": {
    "application/vnd.databricks.v1+cell": {
     "cellMetadata": {
      "byteLimit": 2048000,
      "rowLimit": 10000
     },
     "inputWidgets": {},
     "nuid": "c7607315-ef55-496b-918a-e9fa9b1f1345",
     "showTitle": false,
     "title": ""
    }
   },
   "outputs": [],
   "source": [
    "\n",
    "new = new.filter(new.bath < new.BHK + 2)\n",
    "# Dropping the 'size' and 'price_per_sqft' columns, since they are to determin the outliwers\n",
    "new = new.drop('size', 'price_per_sqft')\n",
    "\n"
   ]
  },
  {
   "cell_type": "code",
   "execution_count": 0,
   "metadata": {
    "application/vnd.databricks.v1+cell": {
     "cellMetadata": {
      "byteLimit": 2048000,
      "rowLimit": 10000
     },
     "inputWidgets": {},
     "nuid": "1052ce2c-427a-419d-bde4-1adf5dc47f23",
     "showTitle": false,
     "title": ""
    }
   },
   "outputs": [
    {
     "output_type": "stream",
     "name": "stdout",
     "output_type": "stream",
     "text": [
      "root\n |-- location: string (nullable = true)\n |-- total_sqft: float (nullable = true)\n |-- bath: integer (nullable = true)\n |-- price: double (nullable = true)\n |-- BHK: integer (nullable = true)\n |-- mean_pps: double (nullable = true)\n |-- std_pps: double (nullable = true)\n\n+--------------------+----------+----+-----+---+------------------+------------------+\n|            location|total_sqft|bath|price|BHK|          mean_pps|           std_pps|\n+--------------------+----------+----+-----+---+------------------+------------------+\n|Electronic City P...|    1056.0|   2|39.07|  2|3827.1555577360914| 2137.712530861059|\n|    Chikka Tirupathi|    2600.0|   5|120.0|  4| 4468.307828348118|   903.53276236815|\n|         Uttarahalli|    1440.0|   2| 62.0|  3|  4292.08423382844| 1289.671809587883|\n|  Lingadheeranahalli|    1521.0|   3| 95.0|  3| 6613.525330900519| 699.1687001786811|\n|            Kothanur|    1200.0|   2| 51.0|  2| 5483.294629003022|1593.7721496466847|\n|          Whitefield|    1170.0|   2| 38.0|  2| 6202.283428709798|3227.5697699874545|\n|    Old Airport Road|    2732.0|   4|204.0|  4| 7659.431963102801| 2707.162465931991|\n|        Marathahalli|    1310.0|   3|63.25|  3| 5935.937549537992|1680.2705603376976|\n|          Whitefield|    1800.0|   2| 70.0|  3| 6202.283428709798|3227.5697699874545|\n|           Gottigere|    1100.0|   2| 40.0|  2| 4420.268012595581|1219.1632246033053|\n|            Sarjapur|    2250.0|   3|148.0|  3| 4833.385341232351|2438.3965150104154|\n|         Mysore Road|    1175.0|   2| 73.5|  2| 5420.475685123758|1306.6208924696457|\n|       Bisuvanahalli|    1180.0|   3| 48.0|  3| 4037.179693437926| 868.1838947107062|\n|Raja Rajeshwari N...|    1540.0|   3| 60.0|  3| 4550.208666250955| 2315.182477552644|\n|               other|    2770.0|   4|290.0|  3| 7471.572866768977| 6415.736374864826|\n|               other|    1100.0|   2| 48.0|  2| 7471.572866768977| 6415.736374864826|\n|          Binny Pete|    1755.0|   3|122.0|  3| 9474.299306707802|2534.1657485857636|\n|           Bellandur|    1767.0|   3|103.0|  3|  5826.07886197935|2696.4750953572243|\n|         Thanisandra|     510.0|   1|25.25|  1|5481.3347763644715|1435.9570330057215|\n|               other|    1250.0|   3| 56.0|  3| 7471.572866768977| 6415.736374864826|\n+--------------------+----------+----+-----+---+------------------+------------------+\nonly showing top 20 rows\n\n"
     ]
    }
   ],
   "source": [
    "new.printSchema()\n",
    "new.show()"
   ]
  },
  {
   "cell_type": "code",
   "execution_count": 0,
   "metadata": {
    "application/vnd.databricks.v1+cell": {
     "cellMetadata": {
      "byteLimit": 2048000,
      "rowLimit": 10000
     },
     "inputWidgets": {},
     "nuid": "76f9d632-a5fb-4d74-9230-aacd58c6a288",
     "showTitle": false,
     "title": ""
    }
   },
   "outputs": [],
   "source": [
    "# Write PySpark DataFrame to CSV format\n",
    "new.write.format(\"csv\").option(\"header\", \"true\").mode(\"overwrite\").save(\"/mnt/real-estate-data/cleaned-data/cleaned_data.csv\")\n"
   ]
  },
  {
   "cell_type": "code",
   "execution_count": 0,
   "metadata": {
    "application/vnd.databricks.v1+cell": {
     "cellMetadata": {
      "byteLimit": 2048000,
      "rowLimit": 10000
     },
     "inputWidgets": {},
     "nuid": "40ec5d5b-31e2-4e43-80eb-89d802ef3dcf",
     "showTitle": false,
     "title": ""
    }
   },
   "outputs": [
    {
     "output_type": "stream",
     "name": "stdout",
     "output_type": "stream",
     "text": [
      "   1st Block Jayanagar  1st Phase JP Nagar  ...  Yeshwanthpur  other\n0                    0                   0  ...             0      0\n1                    0                   0  ...             0      0\n2                    0                   0  ...             0      0\n\n[3 rows x 242 columns]\n"
     ]
    }
   ],
   "source": [
    "# Convert the PySpark DataFrame column to a pandas DataFrame\n",
    "new_pandas_df = new.toPandas()\n",
    "\n",
    "dummies = pd.get_dummies(new_pandas_df['location'])\n",
    "print(dummies.head(3))"
   ]
  },
  {
   "cell_type": "code",
   "execution_count": 0,
   "metadata": {
    "application/vnd.databricks.v1+cell": {
     "cellMetadata": {
      "byteLimit": 2048000,
      "rowLimit": 10000
     },
     "inputWidgets": {},
     "nuid": "4e631ea2-e867-485d-8862-b7b3c4ff7d8d",
     "showTitle": false,
     "title": ""
    }
   },
   "outputs": [
    {
     "output_type": "execute_result",
     "data": {
      "text/html": [
       "<div>\n",
       "<style scoped>\n",
       "    .dataframe tbody tr th:only-of-type {\n",
       "        vertical-align: middle;\n",
       "    }\n",
       "\n",
       "    .dataframe tbody tr th {\n",
       "        vertical-align: top;\n",
       "    }\n",
       "\n",
       "    .dataframe thead th {\n",
       "        text-align: right;\n",
       "    }\n",
       "</style>\n",
       "<table border=\"1\" class=\"dataframe\">\n",
       "  <thead>\n",
       "    <tr style=\"text-align: right;\">\n",
       "      <th></th>\n",
       "      <th>location</th>\n",
       "      <th>total_sqft</th>\n",
       "      <th>bath</th>\n",
       "      <th>price</th>\n",
       "      <th>BHK</th>\n",
       "      <th>mean_pps</th>\n",
       "      <th>std_pps</th>\n",
       "      <th>1st Block Jayanagar</th>\n",
       "      <th>1st Phase JP Nagar</th>\n",
       "      <th>2nd Phase Judicial Layout</th>\n",
       "      <th>2nd Stage Nagarbhavi</th>\n",
       "      <th>5th Block Hbr Layout</th>\n",
       "      <th>5th Phase JP Nagar</th>\n",
       "      <th>6th Phase JP Nagar</th>\n",
       "      <th>7th Phase JP Nagar</th>\n",
       "      <th>8th Phase JP Nagar</th>\n",
       "      <th>9th Phase JP Nagar</th>\n",
       "      <th>AECS Layout</th>\n",
       "      <th>Abbigere</th>\n",
       "      <th>Akshaya Nagar</th>\n",
       "      <th>Ambalipura</th>\n",
       "      <th>Ambedkar Nagar</th>\n",
       "      <th>Amruthahalli</th>\n",
       "      <th>Anandapura</th>\n",
       "      <th>Ananth Nagar</th>\n",
       "      <th>Anekal</th>\n",
       "      <th>Anjanapura</th>\n",
       "      <th>Ardendale</th>\n",
       "      <th>Arekere</th>\n",
       "      <th>Attibele</th>\n",
       "      <th>BEML Layout</th>\n",
       "      <th>BTM 2nd Stage</th>\n",
       "      <th>BTM Layout</th>\n",
       "      <th>Babusapalaya</th>\n",
       "      <th>Badavala Nagar</th>\n",
       "      <th>Balagere</th>\n",
       "      <th>Banashankari</th>\n",
       "      <th>Banashankari Stage II</th>\n",
       "      <th>Banashankari Stage III</th>\n",
       "      <th>Banashankari Stage V</th>\n",
       "      <th>...</th>\n",
       "      <th>Sanjay nagar</th>\n",
       "      <th>Sarakki Nagar</th>\n",
       "      <th>Sarjapur</th>\n",
       "      <th>Sarjapur  Road</th>\n",
       "      <th>Sarjapura - Attibele Road</th>\n",
       "      <th>Sector 2 HSR Layout</th>\n",
       "      <th>Sector 7 HSR Layout</th>\n",
       "      <th>Seegehalli</th>\n",
       "      <th>Shampura</th>\n",
       "      <th>Shivaji Nagar</th>\n",
       "      <th>Singasandra</th>\n",
       "      <th>Somasundara Palya</th>\n",
       "      <th>Sompura</th>\n",
       "      <th>Sonnenahalli</th>\n",
       "      <th>Subramanyapura</th>\n",
       "      <th>Sultan Palaya</th>\n",
       "      <th>TC Palaya</th>\n",
       "      <th>Talaghattapura</th>\n",
       "      <th>Thanisandra</th>\n",
       "      <th>Thigalarapalya</th>\n",
       "      <th>Thubarahalli</th>\n",
       "      <th>Thyagaraja Nagar</th>\n",
       "      <th>Tindlu</th>\n",
       "      <th>Tumkur Road</th>\n",
       "      <th>Ulsoor</th>\n",
       "      <th>Uttarahalli</th>\n",
       "      <th>Varthur</th>\n",
       "      <th>Varthur Road</th>\n",
       "      <th>Vasanthapura</th>\n",
       "      <th>Vidyaranyapura</th>\n",
       "      <th>Vijayanagar</th>\n",
       "      <th>Vishveshwarya Layout</th>\n",
       "      <th>Vishwapriya Layout</th>\n",
       "      <th>Vittasandra</th>\n",
       "      <th>Whitefield</th>\n",
       "      <th>Yelachenahalli</th>\n",
       "      <th>Yelahanka</th>\n",
       "      <th>Yelahanka New Town</th>\n",
       "      <th>Yelenahalli</th>\n",
       "      <th>Yeshwanthpur</th>\n",
       "    </tr>\n",
       "  </thead>\n",
       "  <tbody>\n",
       "    <tr>\n",
       "      <th>0</th>\n",
       "      <td>Electronic City Phase II</td>\n",
       "      <td>1056.0</td>\n",
       "      <td>2</td>\n",
       "      <td>39.07</td>\n",
       "      <td>2</td>\n",
       "      <td>3827.155558</td>\n",
       "      <td>2137.712531</td>\n",
       "      <td>0</td>\n",
       "      <td>0</td>\n",
       "      <td>0</td>\n",
       "      <td>0</td>\n",
       "      <td>0</td>\n",
       "      <td>0</td>\n",
       "      <td>0</td>\n",
       "      <td>0</td>\n",
       "      <td>0</td>\n",
       "      <td>0</td>\n",
       "      <td>0</td>\n",
       "      <td>0</td>\n",
       "      <td>0</td>\n",
       "      <td>0</td>\n",
       "      <td>0</td>\n",
       "      <td>0</td>\n",
       "      <td>0</td>\n",
       "      <td>0</td>\n",
       "      <td>0</td>\n",
       "      <td>0</td>\n",
       "      <td>0</td>\n",
       "      <td>0</td>\n",
       "      <td>0</td>\n",
       "      <td>0</td>\n",
       "      <td>0</td>\n",
       "      <td>0</td>\n",
       "      <td>0</td>\n",
       "      <td>0</td>\n",
       "      <td>0</td>\n",
       "      <td>0</td>\n",
       "      <td>0</td>\n",
       "      <td>0</td>\n",
       "      <td>0</td>\n",
       "      <td>...</td>\n",
       "      <td>0</td>\n",
       "      <td>0</td>\n",
       "      <td>0</td>\n",
       "      <td>0</td>\n",
       "      <td>0</td>\n",
       "      <td>0</td>\n",
       "      <td>0</td>\n",
       "      <td>0</td>\n",
       "      <td>0</td>\n",
       "      <td>0</td>\n",
       "      <td>0</td>\n",
       "      <td>0</td>\n",
       "      <td>0</td>\n",
       "      <td>0</td>\n",
       "      <td>0</td>\n",
       "      <td>0</td>\n",
       "      <td>0</td>\n",
       "      <td>0</td>\n",
       "      <td>0</td>\n",
       "      <td>0</td>\n",
       "      <td>0</td>\n",
       "      <td>0</td>\n",
       "      <td>0</td>\n",
       "      <td>0</td>\n",
       "      <td>0</td>\n",
       "      <td>0</td>\n",
       "      <td>0</td>\n",
       "      <td>0</td>\n",
       "      <td>0</td>\n",
       "      <td>0</td>\n",
       "      <td>0</td>\n",
       "      <td>0</td>\n",
       "      <td>0</td>\n",
       "      <td>0</td>\n",
       "      <td>0</td>\n",
       "      <td>0</td>\n",
       "      <td>0</td>\n",
       "      <td>0</td>\n",
       "      <td>0</td>\n",
       "      <td>0</td>\n",
       "    </tr>\n",
       "    <tr>\n",
       "      <th>1</th>\n",
       "      <td>Chikka Tirupathi</td>\n",
       "      <td>2600.0</td>\n",
       "      <td>5</td>\n",
       "      <td>120.00</td>\n",
       "      <td>4</td>\n",
       "      <td>4468.307828</td>\n",
       "      <td>903.532762</td>\n",
       "      <td>0</td>\n",
       "      <td>0</td>\n",
       "      <td>0</td>\n",
       "      <td>0</td>\n",
       "      <td>0</td>\n",
       "      <td>0</td>\n",
       "      <td>0</td>\n",
       "      <td>0</td>\n",
       "      <td>0</td>\n",
       "      <td>0</td>\n",
       "      <td>0</td>\n",
       "      <td>0</td>\n",
       "      <td>0</td>\n",
       "      <td>0</td>\n",
       "      <td>0</td>\n",
       "      <td>0</td>\n",
       "      <td>0</td>\n",
       "      <td>0</td>\n",
       "      <td>0</td>\n",
       "      <td>0</td>\n",
       "      <td>0</td>\n",
       "      <td>0</td>\n",
       "      <td>0</td>\n",
       "      <td>0</td>\n",
       "      <td>0</td>\n",
       "      <td>0</td>\n",
       "      <td>0</td>\n",
       "      <td>0</td>\n",
       "      <td>0</td>\n",
       "      <td>0</td>\n",
       "      <td>0</td>\n",
       "      <td>0</td>\n",
       "      <td>0</td>\n",
       "      <td>...</td>\n",
       "      <td>0</td>\n",
       "      <td>0</td>\n",
       "      <td>0</td>\n",
       "      <td>0</td>\n",
       "      <td>0</td>\n",
       "      <td>0</td>\n",
       "      <td>0</td>\n",
       "      <td>0</td>\n",
       "      <td>0</td>\n",
       "      <td>0</td>\n",
       "      <td>0</td>\n",
       "      <td>0</td>\n",
       "      <td>0</td>\n",
       "      <td>0</td>\n",
       "      <td>0</td>\n",
       "      <td>0</td>\n",
       "      <td>0</td>\n",
       "      <td>0</td>\n",
       "      <td>0</td>\n",
       "      <td>0</td>\n",
       "      <td>0</td>\n",
       "      <td>0</td>\n",
       "      <td>0</td>\n",
       "      <td>0</td>\n",
       "      <td>0</td>\n",
       "      <td>0</td>\n",
       "      <td>0</td>\n",
       "      <td>0</td>\n",
       "      <td>0</td>\n",
       "      <td>0</td>\n",
       "      <td>0</td>\n",
       "      <td>0</td>\n",
       "      <td>0</td>\n",
       "      <td>0</td>\n",
       "      <td>0</td>\n",
       "      <td>0</td>\n",
       "      <td>0</td>\n",
       "      <td>0</td>\n",
       "      <td>0</td>\n",
       "      <td>0</td>\n",
       "    </tr>\n",
       "    <tr>\n",
       "      <th>2</th>\n",
       "      <td>Uttarahalli</td>\n",
       "      <td>1440.0</td>\n",
       "      <td>2</td>\n",
       "      <td>62.00</td>\n",
       "      <td>3</td>\n",
       "      <td>4292.084234</td>\n",
       "      <td>1289.671810</td>\n",
       "      <td>0</td>\n",
       "      <td>0</td>\n",
       "      <td>0</td>\n",
       "      <td>0</td>\n",
       "      <td>0</td>\n",
       "      <td>0</td>\n",
       "      <td>0</td>\n",
       "      <td>0</td>\n",
       "      <td>0</td>\n",
       "      <td>0</td>\n",
       "      <td>0</td>\n",
       "      <td>0</td>\n",
       "      <td>0</td>\n",
       "      <td>0</td>\n",
       "      <td>0</td>\n",
       "      <td>0</td>\n",
       "      <td>0</td>\n",
       "      <td>0</td>\n",
       "      <td>0</td>\n",
       "      <td>0</td>\n",
       "      <td>0</td>\n",
       "      <td>0</td>\n",
       "      <td>0</td>\n",
       "      <td>0</td>\n",
       "      <td>0</td>\n",
       "      <td>0</td>\n",
       "      <td>0</td>\n",
       "      <td>0</td>\n",
       "      <td>0</td>\n",
       "      <td>0</td>\n",
       "      <td>0</td>\n",
       "      <td>0</td>\n",
       "      <td>0</td>\n",
       "      <td>...</td>\n",
       "      <td>0</td>\n",
       "      <td>0</td>\n",
       "      <td>0</td>\n",
       "      <td>0</td>\n",
       "      <td>0</td>\n",
       "      <td>0</td>\n",
       "      <td>0</td>\n",
       "      <td>0</td>\n",
       "      <td>0</td>\n",
       "      <td>0</td>\n",
       "      <td>0</td>\n",
       "      <td>0</td>\n",
       "      <td>0</td>\n",
       "      <td>0</td>\n",
       "      <td>0</td>\n",
       "      <td>0</td>\n",
       "      <td>0</td>\n",
       "      <td>0</td>\n",
       "      <td>0</td>\n",
       "      <td>0</td>\n",
       "      <td>0</td>\n",
       "      <td>0</td>\n",
       "      <td>0</td>\n",
       "      <td>0</td>\n",
       "      <td>0</td>\n",
       "      <td>1</td>\n",
       "      <td>0</td>\n",
       "      <td>0</td>\n",
       "      <td>0</td>\n",
       "      <td>0</td>\n",
       "      <td>0</td>\n",
       "      <td>0</td>\n",
       "      <td>0</td>\n",
       "      <td>0</td>\n",
       "      <td>0</td>\n",
       "      <td>0</td>\n",
       "      <td>0</td>\n",
       "      <td>0</td>\n",
       "      <td>0</td>\n",
       "      <td>0</td>\n",
       "    </tr>\n",
       "    <tr>\n",
       "      <th>3</th>\n",
       "      <td>Lingadheeranahalli</td>\n",
       "      <td>1521.0</td>\n",
       "      <td>3</td>\n",
       "      <td>95.00</td>\n",
       "      <td>3</td>\n",
       "      <td>6613.525331</td>\n",
       "      <td>699.168700</td>\n",
       "      <td>0</td>\n",
       "      <td>0</td>\n",
       "      <td>0</td>\n",
       "      <td>0</td>\n",
       "      <td>0</td>\n",
       "      <td>0</td>\n",
       "      <td>0</td>\n",
       "      <td>0</td>\n",
       "      <td>0</td>\n",
       "      <td>0</td>\n",
       "      <td>0</td>\n",
       "      <td>0</td>\n",
       "      <td>0</td>\n",
       "      <td>0</td>\n",
       "      <td>0</td>\n",
       "      <td>0</td>\n",
       "      <td>0</td>\n",
       "      <td>0</td>\n",
       "      <td>0</td>\n",
       "      <td>0</td>\n",
       "      <td>0</td>\n",
       "      <td>0</td>\n",
       "      <td>0</td>\n",
       "      <td>0</td>\n",
       "      <td>0</td>\n",
       "      <td>0</td>\n",
       "      <td>0</td>\n",
       "      <td>0</td>\n",
       "      <td>0</td>\n",
       "      <td>0</td>\n",
       "      <td>0</td>\n",
       "      <td>0</td>\n",
       "      <td>0</td>\n",
       "      <td>...</td>\n",
       "      <td>0</td>\n",
       "      <td>0</td>\n",
       "      <td>0</td>\n",
       "      <td>0</td>\n",
       "      <td>0</td>\n",
       "      <td>0</td>\n",
       "      <td>0</td>\n",
       "      <td>0</td>\n",
       "      <td>0</td>\n",
       "      <td>0</td>\n",
       "      <td>0</td>\n",
       "      <td>0</td>\n",
       "      <td>0</td>\n",
       "      <td>0</td>\n",
       "      <td>0</td>\n",
       "      <td>0</td>\n",
       "      <td>0</td>\n",
       "      <td>0</td>\n",
       "      <td>0</td>\n",
       "      <td>0</td>\n",
       "      <td>0</td>\n",
       "      <td>0</td>\n",
       "      <td>0</td>\n",
       "      <td>0</td>\n",
       "      <td>0</td>\n",
       "      <td>0</td>\n",
       "      <td>0</td>\n",
       "      <td>0</td>\n",
       "      <td>0</td>\n",
       "      <td>0</td>\n",
       "      <td>0</td>\n",
       "      <td>0</td>\n",
       "      <td>0</td>\n",
       "      <td>0</td>\n",
       "      <td>0</td>\n",
       "      <td>0</td>\n",
       "      <td>0</td>\n",
       "      <td>0</td>\n",
       "      <td>0</td>\n",
       "      <td>0</td>\n",
       "    </tr>\n",
       "    <tr>\n",
       "      <th>4</th>\n",
       "      <td>Kothanur</td>\n",
       "      <td>1200.0</td>\n",
       "      <td>2</td>\n",
       "      <td>51.00</td>\n",
       "      <td>2</td>\n",
       "      <td>5483.294629</td>\n",
       "      <td>1593.772150</td>\n",
       "      <td>0</td>\n",
       "      <td>0</td>\n",
       "      <td>0</td>\n",
       "      <td>0</td>\n",
       "      <td>0</td>\n",
       "      <td>0</td>\n",
       "      <td>0</td>\n",
       "      <td>0</td>\n",
       "      <td>0</td>\n",
       "      <td>0</td>\n",
       "      <td>0</td>\n",
       "      <td>0</td>\n",
       "      <td>0</td>\n",
       "      <td>0</td>\n",
       "      <td>0</td>\n",
       "      <td>0</td>\n",
       "      <td>0</td>\n",
       "      <td>0</td>\n",
       "      <td>0</td>\n",
       "      <td>0</td>\n",
       "      <td>0</td>\n",
       "      <td>0</td>\n",
       "      <td>0</td>\n",
       "      <td>0</td>\n",
       "      <td>0</td>\n",
       "      <td>0</td>\n",
       "      <td>0</td>\n",
       "      <td>0</td>\n",
       "      <td>0</td>\n",
       "      <td>0</td>\n",
       "      <td>0</td>\n",
       "      <td>0</td>\n",
       "      <td>0</td>\n",
       "      <td>...</td>\n",
       "      <td>0</td>\n",
       "      <td>0</td>\n",
       "      <td>0</td>\n",
       "      <td>0</td>\n",
       "      <td>0</td>\n",
       "      <td>0</td>\n",
       "      <td>0</td>\n",
       "      <td>0</td>\n",
       "      <td>0</td>\n",
       "      <td>0</td>\n",
       "      <td>0</td>\n",
       "      <td>0</td>\n",
       "      <td>0</td>\n",
       "      <td>0</td>\n",
       "      <td>0</td>\n",
       "      <td>0</td>\n",
       "      <td>0</td>\n",
       "      <td>0</td>\n",
       "      <td>0</td>\n",
       "      <td>0</td>\n",
       "      <td>0</td>\n",
       "      <td>0</td>\n",
       "      <td>0</td>\n",
       "      <td>0</td>\n",
       "      <td>0</td>\n",
       "      <td>0</td>\n",
       "      <td>0</td>\n",
       "      <td>0</td>\n",
       "      <td>0</td>\n",
       "      <td>0</td>\n",
       "      <td>0</td>\n",
       "      <td>0</td>\n",
       "      <td>0</td>\n",
       "      <td>0</td>\n",
       "      <td>0</td>\n",
       "      <td>0</td>\n",
       "      <td>0</td>\n",
       "      <td>0</td>\n",
       "      <td>0</td>\n",
       "      <td>0</td>\n",
       "    </tr>\n",
       "  </tbody>\n",
       "</table>\n",
       "<p>5 rows × 248 columns</p>\n",
       "</div>"
      ],
      "text/plain": [
       "                   location  total_sqft  ...  Yelenahalli  Yeshwanthpur\n",
       "0  Electronic City Phase II      1056.0  ...            0             0\n",
       "1          Chikka Tirupathi      2600.0  ...            0             0\n",
       "2               Uttarahalli      1440.0  ...            0             0\n",
       "3        Lingadheeranahalli      1521.0  ...            0             0\n",
       "4                  Kothanur      1200.0  ...            0             0\n",
       "\n",
       "[5 rows x 248 columns]"
      ]
     },
     "execution_count": 30,
     "metadata": {},
     "output_type": "execute_result"
    }
   ],
   "source": [
    "new_pandas_df = pd.concat([new_pandas_df,dummies.drop('other',axis='columns')],axis='columns')\n",
    "new_pandas_df.head()"
   ]
  },
  {
   "cell_type": "code",
   "execution_count": 0,
   "metadata": {
    "application/vnd.databricks.v1+cell": {
     "cellMetadata": {
      "byteLimit": 2048000,
      "rowLimit": 10000
     },
     "inputWidgets": {},
     "nuid": "76623b39-e3c1-47f9-8ec6-5a92266f837e",
     "showTitle": false,
     "title": ""
    }
   },
   "outputs": [
    {
     "output_type": "execute_result",
     "data": {
      "text/html": [
       "<div>\n",
       "<style scoped>\n",
       "    .dataframe tbody tr th:only-of-type {\n",
       "        vertical-align: middle;\n",
       "    }\n",
       "\n",
       "    .dataframe tbody tr th {\n",
       "        vertical-align: top;\n",
       "    }\n",
       "\n",
       "    .dataframe thead th {\n",
       "        text-align: right;\n",
       "    }\n",
       "</style>\n",
       "<table border=\"1\" class=\"dataframe\">\n",
       "  <thead>\n",
       "    <tr style=\"text-align: right;\">\n",
       "      <th></th>\n",
       "      <th>total_sqft</th>\n",
       "      <th>bath</th>\n",
       "      <th>price</th>\n",
       "      <th>BHK</th>\n",
       "      <th>mean_pps</th>\n",
       "      <th>std_pps</th>\n",
       "      <th>1st Block Jayanagar</th>\n",
       "      <th>1st Phase JP Nagar</th>\n",
       "      <th>2nd Phase Judicial Layout</th>\n",
       "      <th>2nd Stage Nagarbhavi</th>\n",
       "      <th>5th Block Hbr Layout</th>\n",
       "      <th>5th Phase JP Nagar</th>\n",
       "      <th>6th Phase JP Nagar</th>\n",
       "      <th>7th Phase JP Nagar</th>\n",
       "      <th>8th Phase JP Nagar</th>\n",
       "      <th>9th Phase JP Nagar</th>\n",
       "      <th>AECS Layout</th>\n",
       "      <th>Abbigere</th>\n",
       "      <th>Akshaya Nagar</th>\n",
       "      <th>Ambalipura</th>\n",
       "      <th>Ambedkar Nagar</th>\n",
       "      <th>Amruthahalli</th>\n",
       "      <th>Anandapura</th>\n",
       "      <th>Ananth Nagar</th>\n",
       "      <th>Anekal</th>\n",
       "      <th>Anjanapura</th>\n",
       "      <th>Ardendale</th>\n",
       "      <th>Arekere</th>\n",
       "      <th>Attibele</th>\n",
       "      <th>BEML Layout</th>\n",
       "      <th>BTM 2nd Stage</th>\n",
       "      <th>BTM Layout</th>\n",
       "      <th>Babusapalaya</th>\n",
       "      <th>Badavala Nagar</th>\n",
       "      <th>Balagere</th>\n",
       "      <th>Banashankari</th>\n",
       "      <th>Banashankari Stage II</th>\n",
       "      <th>Banashankari Stage III</th>\n",
       "      <th>Banashankari Stage V</th>\n",
       "      <th>Banashankari Stage VI</th>\n",
       "      <th>...</th>\n",
       "      <th>Sanjay nagar</th>\n",
       "      <th>Sarakki Nagar</th>\n",
       "      <th>Sarjapur</th>\n",
       "      <th>Sarjapur  Road</th>\n",
       "      <th>Sarjapura - Attibele Road</th>\n",
       "      <th>Sector 2 HSR Layout</th>\n",
       "      <th>Sector 7 HSR Layout</th>\n",
       "      <th>Seegehalli</th>\n",
       "      <th>Shampura</th>\n",
       "      <th>Shivaji Nagar</th>\n",
       "      <th>Singasandra</th>\n",
       "      <th>Somasundara Palya</th>\n",
       "      <th>Sompura</th>\n",
       "      <th>Sonnenahalli</th>\n",
       "      <th>Subramanyapura</th>\n",
       "      <th>Sultan Palaya</th>\n",
       "      <th>TC Palaya</th>\n",
       "      <th>Talaghattapura</th>\n",
       "      <th>Thanisandra</th>\n",
       "      <th>Thigalarapalya</th>\n",
       "      <th>Thubarahalli</th>\n",
       "      <th>Thyagaraja Nagar</th>\n",
       "      <th>Tindlu</th>\n",
       "      <th>Tumkur Road</th>\n",
       "      <th>Ulsoor</th>\n",
       "      <th>Uttarahalli</th>\n",
       "      <th>Varthur</th>\n",
       "      <th>Varthur Road</th>\n",
       "      <th>Vasanthapura</th>\n",
       "      <th>Vidyaranyapura</th>\n",
       "      <th>Vijayanagar</th>\n",
       "      <th>Vishveshwarya Layout</th>\n",
       "      <th>Vishwapriya Layout</th>\n",
       "      <th>Vittasandra</th>\n",
       "      <th>Whitefield</th>\n",
       "      <th>Yelachenahalli</th>\n",
       "      <th>Yelahanka</th>\n",
       "      <th>Yelahanka New Town</th>\n",
       "      <th>Yelenahalli</th>\n",
       "      <th>Yeshwanthpur</th>\n",
       "    </tr>\n",
       "  </thead>\n",
       "  <tbody>\n",
       "    <tr>\n",
       "      <th>0</th>\n",
       "      <td>1056.0</td>\n",
       "      <td>2</td>\n",
       "      <td>39.07</td>\n",
       "      <td>2</td>\n",
       "      <td>3827.155558</td>\n",
       "      <td>2137.712531</td>\n",
       "      <td>0</td>\n",
       "      <td>0</td>\n",
       "      <td>0</td>\n",
       "      <td>0</td>\n",
       "      <td>0</td>\n",
       "      <td>0</td>\n",
       "      <td>0</td>\n",
       "      <td>0</td>\n",
       "      <td>0</td>\n",
       "      <td>0</td>\n",
       "      <td>0</td>\n",
       "      <td>0</td>\n",
       "      <td>0</td>\n",
       "      <td>0</td>\n",
       "      <td>0</td>\n",
       "      <td>0</td>\n",
       "      <td>0</td>\n",
       "      <td>0</td>\n",
       "      <td>0</td>\n",
       "      <td>0</td>\n",
       "      <td>0</td>\n",
       "      <td>0</td>\n",
       "      <td>0</td>\n",
       "      <td>0</td>\n",
       "      <td>0</td>\n",
       "      <td>0</td>\n",
       "      <td>0</td>\n",
       "      <td>0</td>\n",
       "      <td>0</td>\n",
       "      <td>0</td>\n",
       "      <td>0</td>\n",
       "      <td>0</td>\n",
       "      <td>0</td>\n",
       "      <td>0</td>\n",
       "      <td>...</td>\n",
       "      <td>0</td>\n",
       "      <td>0</td>\n",
       "      <td>0</td>\n",
       "      <td>0</td>\n",
       "      <td>0</td>\n",
       "      <td>0</td>\n",
       "      <td>0</td>\n",
       "      <td>0</td>\n",
       "      <td>0</td>\n",
       "      <td>0</td>\n",
       "      <td>0</td>\n",
       "      <td>0</td>\n",
       "      <td>0</td>\n",
       "      <td>0</td>\n",
       "      <td>0</td>\n",
       "      <td>0</td>\n",
       "      <td>0</td>\n",
       "      <td>0</td>\n",
       "      <td>0</td>\n",
       "      <td>0</td>\n",
       "      <td>0</td>\n",
       "      <td>0</td>\n",
       "      <td>0</td>\n",
       "      <td>0</td>\n",
       "      <td>0</td>\n",
       "      <td>0</td>\n",
       "      <td>0</td>\n",
       "      <td>0</td>\n",
       "      <td>0</td>\n",
       "      <td>0</td>\n",
       "      <td>0</td>\n",
       "      <td>0</td>\n",
       "      <td>0</td>\n",
       "      <td>0</td>\n",
       "      <td>0</td>\n",
       "      <td>0</td>\n",
       "      <td>0</td>\n",
       "      <td>0</td>\n",
       "      <td>0</td>\n",
       "      <td>0</td>\n",
       "    </tr>\n",
       "    <tr>\n",
       "      <th>1</th>\n",
       "      <td>2600.0</td>\n",
       "      <td>5</td>\n",
       "      <td>120.00</td>\n",
       "      <td>4</td>\n",
       "      <td>4468.307828</td>\n",
       "      <td>903.532762</td>\n",
       "      <td>0</td>\n",
       "      <td>0</td>\n",
       "      <td>0</td>\n",
       "      <td>0</td>\n",
       "      <td>0</td>\n",
       "      <td>0</td>\n",
       "      <td>0</td>\n",
       "      <td>0</td>\n",
       "      <td>0</td>\n",
       "      <td>0</td>\n",
       "      <td>0</td>\n",
       "      <td>0</td>\n",
       "      <td>0</td>\n",
       "      <td>0</td>\n",
       "      <td>0</td>\n",
       "      <td>0</td>\n",
       "      <td>0</td>\n",
       "      <td>0</td>\n",
       "      <td>0</td>\n",
       "      <td>0</td>\n",
       "      <td>0</td>\n",
       "      <td>0</td>\n",
       "      <td>0</td>\n",
       "      <td>0</td>\n",
       "      <td>0</td>\n",
       "      <td>0</td>\n",
       "      <td>0</td>\n",
       "      <td>0</td>\n",
       "      <td>0</td>\n",
       "      <td>0</td>\n",
       "      <td>0</td>\n",
       "      <td>0</td>\n",
       "      <td>0</td>\n",
       "      <td>0</td>\n",
       "      <td>...</td>\n",
       "      <td>0</td>\n",
       "      <td>0</td>\n",
       "      <td>0</td>\n",
       "      <td>0</td>\n",
       "      <td>0</td>\n",
       "      <td>0</td>\n",
       "      <td>0</td>\n",
       "      <td>0</td>\n",
       "      <td>0</td>\n",
       "      <td>0</td>\n",
       "      <td>0</td>\n",
       "      <td>0</td>\n",
       "      <td>0</td>\n",
       "      <td>0</td>\n",
       "      <td>0</td>\n",
       "      <td>0</td>\n",
       "      <td>0</td>\n",
       "      <td>0</td>\n",
       "      <td>0</td>\n",
       "      <td>0</td>\n",
       "      <td>0</td>\n",
       "      <td>0</td>\n",
       "      <td>0</td>\n",
       "      <td>0</td>\n",
       "      <td>0</td>\n",
       "      <td>0</td>\n",
       "      <td>0</td>\n",
       "      <td>0</td>\n",
       "      <td>0</td>\n",
       "      <td>0</td>\n",
       "      <td>0</td>\n",
       "      <td>0</td>\n",
       "      <td>0</td>\n",
       "      <td>0</td>\n",
       "      <td>0</td>\n",
       "      <td>0</td>\n",
       "      <td>0</td>\n",
       "      <td>0</td>\n",
       "      <td>0</td>\n",
       "      <td>0</td>\n",
       "    </tr>\n",
       "    <tr>\n",
       "      <th>2</th>\n",
       "      <td>1440.0</td>\n",
       "      <td>2</td>\n",
       "      <td>62.00</td>\n",
       "      <td>3</td>\n",
       "      <td>4292.084234</td>\n",
       "      <td>1289.671810</td>\n",
       "      <td>0</td>\n",
       "      <td>0</td>\n",
       "      <td>0</td>\n",
       "      <td>0</td>\n",
       "      <td>0</td>\n",
       "      <td>0</td>\n",
       "      <td>0</td>\n",
       "      <td>0</td>\n",
       "      <td>0</td>\n",
       "      <td>0</td>\n",
       "      <td>0</td>\n",
       "      <td>0</td>\n",
       "      <td>0</td>\n",
       "      <td>0</td>\n",
       "      <td>0</td>\n",
       "      <td>0</td>\n",
       "      <td>0</td>\n",
       "      <td>0</td>\n",
       "      <td>0</td>\n",
       "      <td>0</td>\n",
       "      <td>0</td>\n",
       "      <td>0</td>\n",
       "      <td>0</td>\n",
       "      <td>0</td>\n",
       "      <td>0</td>\n",
       "      <td>0</td>\n",
       "      <td>0</td>\n",
       "      <td>0</td>\n",
       "      <td>0</td>\n",
       "      <td>0</td>\n",
       "      <td>0</td>\n",
       "      <td>0</td>\n",
       "      <td>0</td>\n",
       "      <td>0</td>\n",
       "      <td>...</td>\n",
       "      <td>0</td>\n",
       "      <td>0</td>\n",
       "      <td>0</td>\n",
       "      <td>0</td>\n",
       "      <td>0</td>\n",
       "      <td>0</td>\n",
       "      <td>0</td>\n",
       "      <td>0</td>\n",
       "      <td>0</td>\n",
       "      <td>0</td>\n",
       "      <td>0</td>\n",
       "      <td>0</td>\n",
       "      <td>0</td>\n",
       "      <td>0</td>\n",
       "      <td>0</td>\n",
       "      <td>0</td>\n",
       "      <td>0</td>\n",
       "      <td>0</td>\n",
       "      <td>0</td>\n",
       "      <td>0</td>\n",
       "      <td>0</td>\n",
       "      <td>0</td>\n",
       "      <td>0</td>\n",
       "      <td>0</td>\n",
       "      <td>0</td>\n",
       "      <td>1</td>\n",
       "      <td>0</td>\n",
       "      <td>0</td>\n",
       "      <td>0</td>\n",
       "      <td>0</td>\n",
       "      <td>0</td>\n",
       "      <td>0</td>\n",
       "      <td>0</td>\n",
       "      <td>0</td>\n",
       "      <td>0</td>\n",
       "      <td>0</td>\n",
       "      <td>0</td>\n",
       "      <td>0</td>\n",
       "      <td>0</td>\n",
       "      <td>0</td>\n",
       "    </tr>\n",
       "    <tr>\n",
       "      <th>3</th>\n",
       "      <td>1521.0</td>\n",
       "      <td>3</td>\n",
       "      <td>95.00</td>\n",
       "      <td>3</td>\n",
       "      <td>6613.525331</td>\n",
       "      <td>699.168700</td>\n",
       "      <td>0</td>\n",
       "      <td>0</td>\n",
       "      <td>0</td>\n",
       "      <td>0</td>\n",
       "      <td>0</td>\n",
       "      <td>0</td>\n",
       "      <td>0</td>\n",
       "      <td>0</td>\n",
       "      <td>0</td>\n",
       "      <td>0</td>\n",
       "      <td>0</td>\n",
       "      <td>0</td>\n",
       "      <td>0</td>\n",
       "      <td>0</td>\n",
       "      <td>0</td>\n",
       "      <td>0</td>\n",
       "      <td>0</td>\n",
       "      <td>0</td>\n",
       "      <td>0</td>\n",
       "      <td>0</td>\n",
       "      <td>0</td>\n",
       "      <td>0</td>\n",
       "      <td>0</td>\n",
       "      <td>0</td>\n",
       "      <td>0</td>\n",
       "      <td>0</td>\n",
       "      <td>0</td>\n",
       "      <td>0</td>\n",
       "      <td>0</td>\n",
       "      <td>0</td>\n",
       "      <td>0</td>\n",
       "      <td>0</td>\n",
       "      <td>0</td>\n",
       "      <td>0</td>\n",
       "      <td>...</td>\n",
       "      <td>0</td>\n",
       "      <td>0</td>\n",
       "      <td>0</td>\n",
       "      <td>0</td>\n",
       "      <td>0</td>\n",
       "      <td>0</td>\n",
       "      <td>0</td>\n",
       "      <td>0</td>\n",
       "      <td>0</td>\n",
       "      <td>0</td>\n",
       "      <td>0</td>\n",
       "      <td>0</td>\n",
       "      <td>0</td>\n",
       "      <td>0</td>\n",
       "      <td>0</td>\n",
       "      <td>0</td>\n",
       "      <td>0</td>\n",
       "      <td>0</td>\n",
       "      <td>0</td>\n",
       "      <td>0</td>\n",
       "      <td>0</td>\n",
       "      <td>0</td>\n",
       "      <td>0</td>\n",
       "      <td>0</td>\n",
       "      <td>0</td>\n",
       "      <td>0</td>\n",
       "      <td>0</td>\n",
       "      <td>0</td>\n",
       "      <td>0</td>\n",
       "      <td>0</td>\n",
       "      <td>0</td>\n",
       "      <td>0</td>\n",
       "      <td>0</td>\n",
       "      <td>0</td>\n",
       "      <td>0</td>\n",
       "      <td>0</td>\n",
       "      <td>0</td>\n",
       "      <td>0</td>\n",
       "      <td>0</td>\n",
       "      <td>0</td>\n",
       "    </tr>\n",
       "    <tr>\n",
       "      <th>4</th>\n",
       "      <td>1200.0</td>\n",
       "      <td>2</td>\n",
       "      <td>51.00</td>\n",
       "      <td>2</td>\n",
       "      <td>5483.294629</td>\n",
       "      <td>1593.772150</td>\n",
       "      <td>0</td>\n",
       "      <td>0</td>\n",
       "      <td>0</td>\n",
       "      <td>0</td>\n",
       "      <td>0</td>\n",
       "      <td>0</td>\n",
       "      <td>0</td>\n",
       "      <td>0</td>\n",
       "      <td>0</td>\n",
       "      <td>0</td>\n",
       "      <td>0</td>\n",
       "      <td>0</td>\n",
       "      <td>0</td>\n",
       "      <td>0</td>\n",
       "      <td>0</td>\n",
       "      <td>0</td>\n",
       "      <td>0</td>\n",
       "      <td>0</td>\n",
       "      <td>0</td>\n",
       "      <td>0</td>\n",
       "      <td>0</td>\n",
       "      <td>0</td>\n",
       "      <td>0</td>\n",
       "      <td>0</td>\n",
       "      <td>0</td>\n",
       "      <td>0</td>\n",
       "      <td>0</td>\n",
       "      <td>0</td>\n",
       "      <td>0</td>\n",
       "      <td>0</td>\n",
       "      <td>0</td>\n",
       "      <td>0</td>\n",
       "      <td>0</td>\n",
       "      <td>0</td>\n",
       "      <td>...</td>\n",
       "      <td>0</td>\n",
       "      <td>0</td>\n",
       "      <td>0</td>\n",
       "      <td>0</td>\n",
       "      <td>0</td>\n",
       "      <td>0</td>\n",
       "      <td>0</td>\n",
       "      <td>0</td>\n",
       "      <td>0</td>\n",
       "      <td>0</td>\n",
       "      <td>0</td>\n",
       "      <td>0</td>\n",
       "      <td>0</td>\n",
       "      <td>0</td>\n",
       "      <td>0</td>\n",
       "      <td>0</td>\n",
       "      <td>0</td>\n",
       "      <td>0</td>\n",
       "      <td>0</td>\n",
       "      <td>0</td>\n",
       "      <td>0</td>\n",
       "      <td>0</td>\n",
       "      <td>0</td>\n",
       "      <td>0</td>\n",
       "      <td>0</td>\n",
       "      <td>0</td>\n",
       "      <td>0</td>\n",
       "      <td>0</td>\n",
       "      <td>0</td>\n",
       "      <td>0</td>\n",
       "      <td>0</td>\n",
       "      <td>0</td>\n",
       "      <td>0</td>\n",
       "      <td>0</td>\n",
       "      <td>0</td>\n",
       "      <td>0</td>\n",
       "      <td>0</td>\n",
       "      <td>0</td>\n",
       "      <td>0</td>\n",
       "      <td>0</td>\n",
       "    </tr>\n",
       "  </tbody>\n",
       "</table>\n",
       "<p>5 rows × 247 columns</p>\n",
       "</div>"
      ],
      "text/plain": [
       "   total_sqft  bath   price  ...  Yelahanka New Town  Yelenahalli  Yeshwanthpur\n",
       "0      1056.0     2   39.07  ...                   0            0             0\n",
       "1      2600.0     5  120.00  ...                   0            0             0\n",
       "2      1440.0     2   62.00  ...                   0            0             0\n",
       "3      1521.0     3   95.00  ...                   0            0             0\n",
       "4      1200.0     2   51.00  ...                   0            0             0\n",
       "\n",
       "[5 rows x 247 columns]"
      ]
     },
     "execution_count": 31,
     "metadata": {},
     "output_type": "execute_result"
    }
   ],
   "source": [
    "\n",
    "new_pandas_df = new_pandas_df.drop('location', axis='columns')\n",
    "new_pandas_df.head()"
   ]
  },
  {
   "cell_type": "code",
   "execution_count": 0,
   "metadata": {
    "application/vnd.databricks.v1+cell": {
     "cellMetadata": {
      "byteLimit": 2048000,
      "rowLimit": 10000
     },
     "inputWidgets": {},
     "nuid": "df2d6156-d6a5-437a-8b7a-c83d2e828123",
     "showTitle": false,
     "title": ""
    }
   },
   "outputs": [
    {
     "output_type": "execute_result",
     "data": {
      "text/plain": [
       "(10147, 246)"
      ]
     },
     "execution_count": 32,
     "metadata": {},
     "output_type": "execute_result"
    }
   ],
   "source": [
    "#start prepare our sets\n",
    "X = new_pandas_df.drop(['price'],axis='columns')\n",
    "X.shape\n",
    "\n"
   ]
  },
  {
   "cell_type": "code",
   "execution_count": 0,
   "metadata": {
    "application/vnd.databricks.v1+cell": {
     "cellMetadata": {
      "byteLimit": 2048000,
      "rowLimit": 10000
     },
     "inputWidgets": {},
     "nuid": "1a9b43b6-a2cd-42ca-8e0d-c67b03bf6f47",
     "showTitle": false,
     "title": ""
    }
   },
   "outputs": [
    {
     "output_type": "execute_result",
     "data": {
      "text/plain": [
       "10147"
      ]
     },
     "execution_count": 33,
     "metadata": {},
     "output_type": "execute_result"
    }
   ],
   "source": [
    "y = new_pandas_df.price\n",
    "len(y)"
   ]
  },
  {
   "cell_type": "code",
   "execution_count": 0,
   "metadata": {
    "application/vnd.databricks.v1+cell": {
     "cellMetadata": {
      "byteLimit": 2048000,
      "rowLimit": 10000
     },
     "inputWidgets": {},
     "nuid": "043b5340-63c7-415f-9a2d-dd2b51a1e3b6",
     "showTitle": false,
     "title": ""
    }
   },
   "outputs": [
    {
     "output_type": "execute_result",
     "data": {
      "text/plain": [
       "0.7548767429917617"
      ]
     },
     "execution_count": 39,
     "metadata": {},
     "output_type": "execute_result"
    }
   ],
   "source": [
    "from sklearn.model_selection import train_test_split\n",
    "X_train, X_test, y_train, y_test = train_test_split(X,y,test_size=0.2,random_state=10)\n",
    "from sklearn.linear_model import LinearRegression\n",
    "lr_clf = LinearRegression()\n",
    "lr_clf.fit(X_train,y_train)\n",
    "lr_clf.score(X_test,y_test)\n"
   ]
  },
  {
   "cell_type": "code",
   "execution_count": 0,
   "metadata": {
    "application/vnd.databricks.v1+cell": {
     "cellMetadata": {
      "byteLimit": 2048000,
      "rowLimit": 10000
     },
     "inputWidgets": {},
     "nuid": "f2a8e01e-94c0-4875-a885-74d7d4b2d829",
     "showTitle": false,
     "title": ""
    }
   },
   "outputs": [
    {
     "output_type": "stream",
     "name": "stdout",
     "output_type": "stream",
     "text": [
      "Predicted values: [ 82.53539802  31.85394462  64.63550982 ... 119.6749701   53.50589546\n  54.49563427]\n"
     ]
    }
   ],
   "source": [
    "y_pred = lr_clf.predict(X_test)\n",
    "print(\"Predicted values:\", y_pred)"
   ]
  },
  {
   "cell_type": "code",
   "execution_count": 0,
   "metadata": {
    "application/vnd.databricks.v1+cell": {
     "cellMetadata": {
      "byteLimit": 2048000,
      "rowLimit": 10000
     },
     "inputWidgets": {},
     "nuid": "18821a5e-462e-4399-b709-c72fbf4f1bf5",
     "showTitle": false,
     "title": ""
    }
   },
   "outputs": [
    {
     "output_type": "execute_result",
     "data": {
      "text/plain": [
       "0.7232558999370335"
      ]
     },
     "execution_count": 35,
     "metadata": {},
     "output_type": "execute_result"
    }
   ],
   "source": [
    "from sklearn.tree import DecisionTreeRegressor\n",
    "# Decision Tree Regression\n",
    "dt_clf = DecisionTreeRegressor(random_state=10)\n",
    "dt_clf.fit(X_train, y_train)\n",
    "dt_clf.score(X_test, y_test)"
   ]
  }
 ],
 "metadata": {
  "application/vnd.databricks.v1+notebook": {
   "dashboards": [],
   "language": "python",
   "notebookMetadata": {
    "mostRecentlyExecutedCommandWithImplicitDF": {
     "commandId": 470924493840597,
     "dataframes": [
      "_sqldf"
     ]
    },
    "pythonIndentUnit": 4
   },
   "notebookName": "Real estate data exploration",
   "widgets": {}
  }
 },
 "nbformat": 4,
 "nbformat_minor": 0
}
